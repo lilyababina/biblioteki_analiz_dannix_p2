{
  "nbformat": 4,
  "nbformat_minor": 0,
  "metadata": {
    "colab": {
      "name": "BabinaLA_solution.ipynb",
      "provenance": [],
      "collapsed_sections": [
        "mpZ9bYqZlsIk",
        "HUqf7xULl4mS",
        "uQ7Q1_bdxu4p",
        "IjjTUkT6n4af",
        "P32Ts3Vg8frP",
        "qs0DA1sWSTgp",
        "VMFAEvUgupbG",
        "l-w6iZFeu4S3",
        "Goyb4Qr_vM9f",
        "fiycUj3OGhN0",
        "3nDmuyGXIGO6",
        "rqjGqm9WPKl2",
        "PIB_YSv_PcoZ",
        "3XM564_7G0_7",
        "EU9ksICl7vga",
        "LA007YtlXu_x",
        "WeW11sBZjsYq"
      ],
      "toc_visible": true
    },
    "kernelspec": {
      "name": "python3",
      "display_name": "Python 3"
    }
  },
  "cells": [
    {
      "cell_type": "markdown",
      "metadata": {
        "id": "38-dAJKLkMu6"
      },
      "source": [
        "# Курсовой проект(постановка задачи и описание)"
      ]
    },
    {
      "cell_type": "markdown",
      "metadata": {
        "id": "xFC9g5SykZgl"
      },
      "source": [
        "## Постановка задачи"
      ]
    },
    {
      "cell_type": "markdown",
      "metadata": {
        "id": "BUKPqgwWkbu1"
      },
      "source": [
        "**Задача**\n",
        "\n",
        "Требуется, на основании имеющихся данных о клиентах банка, построить модель, используя обучающий датасет, для прогнозирования невыполнения долговых обязательств по текущему кредиту. Выполнить прогноз для примеров из тестового датасета.\n",
        "\n",
        "**Наименование файлов с данными**\n",
        "\n",
        "course_project_train.csv - обучающий датасет<br>\n",
        "course_project_test.csv - тестовый датасет\n",
        "\n",
        "**Целевая переменная**\n",
        "\n",
        "Credit Default - факт невыполнения кредитных обязательств\n",
        "\n",
        "**Метрика качества**\n",
        "\n",
        "F1-score (sklearn.metrics.f1_score)\n",
        "\n",
        "**Требования к решению**\n",
        "\n",
        "*Целевая метрика*\n",
        "* F1($\\beta$ = 1) > 0.5 при Precision > 0.5 и Recall > 0.5\n",
        "* Метрика оценивается по качеству прогноза для главного класса (1 - просрочка по кредиту)\n",
        "\n",
        "*Решение должно содержать*\n",
        "1. Тетрадка Jupyter Notebook с кодом Вашего решения, названная по образцу {ФИО}\\_solution.ipynb, пример SShirkin\\_solution.ipynb\n",
        "2. Файл CSV с прогнозами целевой переменной (0 или 1, а НЕ вероятность) для тестового датасета, названный по образцу {ФИО}\\_predictions.csv, пример SShirkin\\_predictions.csv\n",
        "\n",
        "*Рекомендации для файла с кодом (ipynb)*\n",
        "1. Файл должен содержать заголовки и комментарии (markdown)\n",
        "2. Повторяющиеся операции лучше оформлять в виде функций\n",
        "3. Не делать вывод большого количества строк таблиц (5-10 достаточно)\n",
        "4. По возможности добавлять графики, описывающие данные (около 3-5)\n",
        "5. Добавлять только лучшую модель, то есть не включать в код все варианты решения проекта\n",
        "6. Скрипт проекта должен отрабатывать от начала и до конца (от загрузки данных до выгрузки предсказаний)\n",
        "7. Весь проект должен быть в одном скрипте (файл ipynb).\n",
        "8. Допускается применение библиотек Python и моделей машинного обучения,\n",
        "которые были в данном курсе.\n",
        "\n",
        "**Сроки сдачи**\n",
        "\n",
        "Cдать проект нужно в течение 5 дней после окончания последнего вебинара.\n",
        "Оценки работ, сданных до дедлайна, будут представлены в виде рейтинга, ранжированного по заданной метрике качества.\n",
        "Проекты, сданные после дедлайна или сданные повторно, не попадают в рейтинг, но можно будет узнать результат."
      ]
    },
    {
      "cell_type": "markdown",
      "metadata": {
        "id": "Zw3uHEu7lKtR"
      },
      "source": [
        "## Примерное описание этапов выполнения курсового проекта"
      ]
    },
    {
      "cell_type": "markdown",
      "metadata": {
        "id": "fMnkQAnilDkF"
      },
      "source": [
        "**Построение модели классификации**\n",
        "1. Обзор обучающего датасета\n",
        "2. Обработка выбросов\n",
        "3. Обработка пропусков\n",
        "4. Анализ данных\n",
        "5. Отбор признаков\n",
        "6. Балансировка классов\n",
        "7. Подбор моделей, получение бейзлана\n",
        "8. Выбор наилучшей модели, настройка гиперпараметров\n",
        "9. Проверка качества, борьба с переобучением\n",
        "10. Интерпретация результатов\n",
        "\n",
        "**Прогнозирование на тестовом датасете**\n",
        "1. Выполнить для тестового датасета те же этапы обработки и постронияния признаков\n",
        "2. Спрогнозировать целевую переменную, используя модель, построенную на обучающем датасете\n",
        "3. Прогнозы должны быть для всех примеров из тестового датасета (для всех строк)\n",
        "4. Соблюдать исходный порядок примеров из тестового датасета"
      ]
    },
    {
      "cell_type": "markdown",
      "metadata": {
        "id": "mpZ9bYqZlsIk"
      },
      "source": [
        "## Обзор данных\n"
      ]
    },
    {
      "cell_type": "markdown",
      "metadata": {
        "id": "Uc0awry6lxuC"
      },
      "source": [
        "**Описание датасета**\n",
        "\n",
        "* **Home Ownership** - домовладение\n",
        "* **Annual Income** - годовой доход\n",
        "* **Years in current job** - количество лет на текущем месте работы\n",
        "* **Tax Liens** - налоговые льготы\n",
        "* **Number of Open Accounts** - количество открытых счетов\n",
        "* **Years of Credit History** - количество лет кредитной истории\n",
        "* **Maximum Open Credit** - наибольший открытый кредит\n",
        "* **Number of Credit Problems** - количество проблем с кредитом\n",
        "* **Months since last delinquent** - количество месяцев с последней просрочки платежа\n",
        "* **Bankruptcies** - банкротства\n",
        "* **Purpose** - цель кредита\n",
        "* **Term** - срок кредита\n",
        "* **Current Loan Amount** - текущая сумма кредита\n",
        "* **Current Credit Balance** - текущий кредитный баланс\n",
        "* **Monthly Debt** - ежемесячный долг\n",
        "* **Credit Score** - оценка благонадежности клиента (скоринговый балл, полученный из другого источника)\n",
        "* **Credit Default** - факт невыполнения кредитных обязательств (0 - погашен вовремя, 1 - просрочка)"
      ]
    },
    {
      "cell_type": "markdown",
      "metadata": {
        "id": "7zrbn9Klla3b"
      },
      "source": [
        "# Курсовой проект(выполнение)"
      ]
    },
    {
      "cell_type": "markdown",
      "metadata": {
        "id": "1KVy0L7Y_G8p"
      },
      "source": [
        "# Предобработка данных"
      ]
    },
    {
      "cell_type": "markdown",
      "metadata": {
        "id": "HUqf7xULl4mS"
      },
      "source": [
        "## Подключение библиотек и скриптов"
      ]
    },
    {
      "cell_type": "code",
      "metadata": {
        "id": "a_nhPW1_jQKS"
      },
      "source": [
        "#! pip install catboost"
      ],
      "execution_count": 1237,
      "outputs": []
    },
    {
      "cell_type": "code",
      "metadata": {
        "id": "jMXLMf1JmDMb"
      },
      "source": [
        "import numpy as np\n",
        "import pandas as pd\n",
        "\n",
        "from sklearn.model_selection import train_test_split, cross_val_score\n",
        "from sklearn.preprocessing import StandardScaler, MinMaxScaler\n",
        "from sklearn.ensemble import RandomForestClassifier\n",
        "from sklearn.metrics import classification_report, f1_score, precision_score, recall_score\n",
        "from sklearn import preprocessing\n",
        "from sklearn.metrics import r2_score as r2\n",
        "import sklearn.linear_model as lm\n",
        "from sklearn.model_selection import KFold, GridSearchCV, RandomizedSearchCV\n",
        "from sklearn.metrics import roc_auc_score\n",
        "\n",
        "from scipy.stats import shapiro\n",
        "from scipy.stats import probplot\n",
        "from scipy.stats import ttest_ind, mannwhitneyu\n",
        "from scipy.stats import chi2_contingency\n",
        "\n",
        "from statsmodels.stats.weightstats import zconfint\n",
        "\n",
        "import seaborn as sns\n",
        "from matplotlib import pyplot as plt\n",
        "%matplotlib inline\n",
        "\n",
        "\n",
        "from sklearn.model_selection import train_test_split, ShuffleSplit, cross_val_score, learning_curve\n",
        "import xgboost as xgb\n",
        "import lightgbm as lgbm\n",
        "import catboost as catb\n",
        "\n",
        "import math\n",
        "from collections import OrderedDict\n",
        "import pickle"
      ],
      "execution_count": 1238,
      "outputs": []
    },
    {
      "cell_type": "code",
      "metadata": {
        "id": "dhQfqzNOyEan"
      },
      "source": [
        "def balance_df_by_target(df, target_name):\n",
        "\n",
        "    target_counts = df[target_name].value_counts()\n",
        "\n",
        "    major_class_name = target_counts.argmax()\n",
        "    minor_class_name = target_counts.argmin()\n",
        "\n",
        "    disbalance_coeff = int(target_counts[major_class_name] / target_counts[minor_class_name]) - 1\n",
        "\n",
        "    for i in range(disbalance_coeff):\n",
        "        sample = df[df[target_name] == minor_class_name].sample(target_counts[minor_class_name])\n",
        "        df = df.append(sample, ignore_index=True)\n",
        "\n",
        "    return df.sample(frac=1)"
      ],
      "execution_count": 1239,
      "outputs": []
    },
    {
      "cell_type": "code",
      "metadata": {
        "id": "3_XDC83RzJES"
      },
      "source": [
        "def print_stat(y_train_preds, y_test_preds):\n",
        "  precision1, recall1, F_11 = precision_score(y_train, y_train_preds), recall_score(y_train, y_train_preds), f1_score(y_train, y_train_preds)\n",
        "  precision2, recall2, F_12 = precision_score(y_val, y_test_preds), recall_score(y_val, y_test_preds), f1_score(y_val, y_test_preds)\n",
        "  precision1, recall1, F_11 = round(precision1, 3), round(recall1, 3), round(F_11, 3)\n",
        "  precision2, recall2, F_12 = round(precision2, 3), round(recall2, 3), round(F_12, 3)\n",
        "  print(f'#    train precision {precision1},  recall {recall1}, F_1 мера {F_11}')\n",
        "  print(f'#    test precision {precision2},  recall {recall2}, F_1 мера {F_12}')"
      ],
      "execution_count": 1240,
      "outputs": []
    },
    {
      "cell_type": "code",
      "metadata": {
        "id": "Ira1uwuz2F8h"
      },
      "source": [
        "def print_stat1( y_train_preds, y_test_preds):\n",
        "  precision1, recall1, F_11 = precision_score(y_train, y_train_preds), recall_score(y_train, y_train_preds), f1_score(y_train, y_train_preds)\n",
        "  precision2, recall2, F_12 = precision_score(y_val, y_test_preds), recall_score(y_val, y_test_preds), f1_score(y_val, y_test_preds)\n",
        "  precision1, recall1, F_11 = round(precision1, 3), round(recall1, 3), round(F_11, 3)\n",
        "  precision2, recall2, F_12 = round(precision2, 3), round(recall2, 3), round(F_12, 3)\n",
        "  if F_12> 0.5 and precision2 > 0.5 and recall2>0.5:\n",
        "    print(f'#    train precision {precision1},  recall {recall1}, F_1 мера {F_11}')\n",
        "    print(f'#    test precision {precision2},  recall {recall2}, F_1 мера {F_12}')"
      ],
      "execution_count": 1241,
      "outputs": []
    },
    {
      "cell_type": "code",
      "metadata": {
        "id": "reIMv2-PzaIZ"
      },
      "source": [
        "def show_feature_importances(feature_names, feature_importances, get_top=None):\n",
        "    feature_importances = pd.DataFrame({'feature': feature_names, 'importance': feature_importances})\n",
        "    feature_importances = feature_importances.sort_values('importance', ascending=False)\n",
        "       \n",
        "    plt.figure(figsize = (20, len(feature_importances) * 0.355))\n",
        "    \n",
        "    sns.barplot(feature_importances['importance'], feature_importances['feature'])\n",
        "    \n",
        "    plt.xlabel('Importance')\n",
        "    plt.title('Importance of features')\n",
        "    plt.show()\n",
        "    \n",
        "    if get_top is not None:\n",
        "        return feature_importances['feature'][:get_top].tolist()"
      ],
      "execution_count": 1242,
      "outputs": []
    },
    {
      "cell_type": "code",
      "metadata": {
        "id": "f8TFsV458tGl"
      },
      "source": [
        "def get_classification_report(y_train_true, y_train_pred, y_test_true, y_test_pred):\n",
        "    print('TRAIN\\n\\n' + classification_report(y_train_true, y_train_pred))\n",
        "    print('TEST\\n\\n' + classification_report(y_test_true, y_test_pred))\n",
        "    print('CONFUSION MATRIX\\n')\n",
        "    print(pd.crosstab(y_test_true, y_test_pred))"
      ],
      "execution_count": 1243,
      "outputs": []
    },
    {
      "cell_type": "code",
      "metadata": {
        "id": "W3meNaoJEAaB"
      },
      "source": [
        "def show_learning_curve_plot(estimator, X, y, cv=3, n_jobs=-1, train_sizes=np.linspace(.1, 1.0, 5)):\n",
        "\n",
        "    train_sizes, train_scores, test_scores = learning_curve(estimator, X, y, \n",
        "                                                            cv=cv, \n",
        "                                                            scoring='f1',\n",
        "                                                            train_sizes=train_sizes, \n",
        "                                                            n_jobs=n_jobs)\n",
        "    train_scores_mean = np.mean(train_scores, axis=1)\n",
        "    train_scores_std = np.std(train_scores, axis=1)\n",
        "    test_scores_mean = np.mean(test_scores, axis=1)\n",
        "    test_scores_std = np.std(test_scores, axis=1)\n",
        "\n",
        "    plt.figure(figsize=(15,8))\n",
        "    plt.fill_between(train_sizes, train_scores_mean - train_scores_std,\n",
        "                     train_scores_mean + train_scores_std, alpha=0.1, color=\"r\")\n",
        "    plt.fill_between(train_sizes, test_scores_mean - test_scores_std,\n",
        "                     test_scores_mean + test_scores_std, alpha=0.1, color=\"g\")\n",
        "    plt.plot(train_sizes, train_scores_mean, 'o-', color=\"r\",\n",
        "             label=\"Training score\")\n",
        "    plt.plot(train_sizes, test_scores_mean, 'o-', color=\"g\",\n",
        "             label=\"Cross-validation score\")\n",
        "\n",
        "    plt.title(f\"Learning curves ({type(estimator).__name__})\")\n",
        "    plt.xlabel(\"Training examples\")\n",
        "    plt.ylabel(\"Score\")     \n",
        "    plt.legend(loc=\"best\")\n",
        "    plt.grid()\n",
        "    plt.show()"
      ],
      "execution_count": 1244,
      "outputs": []
    },
    {
      "cell_type": "code",
      "metadata": {
        "id": "HGNLwfnNR4Qo"
      },
      "source": [
        "def show_proba_calibration_plots(y_predicted_probs, y_true_labels):\n",
        "    preds_with_true_labels = np.array(list(zip(y_predicted_probs, y_true_labels)))\n",
        "\n",
        "    thresholds = []\n",
        "    precisions = []\n",
        "    recalls = []\n",
        "    f1_scores = []\n",
        "\n",
        "    for threshold in np.linspace(0.1, 0.9, 9):\n",
        "        thresholds.append(threshold)\n",
        "        precisions.append(precision_score(y_true_labels, list(map(int, y_predicted_probs > threshold))))\n",
        "        recalls.append(recall_score(y_true_labels, list(map(int, y_predicted_probs > threshold))))\n",
        "        f1_scores.append(f1_score(y_true_labels, list(map(int, y_predicted_probs > threshold))))\n",
        "\n",
        "    scores_table = pd.DataFrame({'f1':f1_scores,\n",
        "                                 'precision':precisions,\n",
        "                                 'recall':recalls,\n",
        "                                 'probability':thresholds}).sort_values('f1', ascending=False).round(3)\n",
        "  \n",
        "    figure = plt.figure(figsize = (15, 5))\n",
        "\n",
        "    plt1 = figure.add_subplot(121)\n",
        "    plt1.plot(thresholds, precisions, label='Precision', linewidth=4)\n",
        "    plt1.plot(thresholds, recalls, label='Recall', linewidth=4)\n",
        "    plt1.plot(thresholds, f1_scores, label='F1', linewidth=4)\n",
        "    plt1.set_ylabel('Scores')\n",
        "    plt1.set_xlabel('Probability threshold')\n",
        "    plt1.set_title('Probabilities threshold calibration')\n",
        "    plt1.legend(bbox_to_anchor=(0.25, 0.25))   \n",
        "    plt1.table(cellText = scores_table.values,\n",
        "               colLabels = scores_table.columns, \n",
        "               colLoc = 'center', cellLoc = 'center', loc = 'bottom', bbox = [0, -1.3, 1, 1])\n",
        "\n",
        "    plt2 = figure.add_subplot(122)\n",
        "    plt2.hist(preds_with_true_labels[preds_with_true_labels[:, 1] == 0][:, 0], \n",
        "              label='Another class', color='royalblue', alpha=1)\n",
        "    plt2.hist(preds_with_true_labels[preds_with_true_labels[:, 1] == 1][:, 0], \n",
        "              label='Main class', color='darkcyan', alpha=0.8)\n",
        "    plt2.set_ylabel('Number of examples')\n",
        "    plt2.set_xlabel('Probabilities')\n",
        "    plt2.set_title('Probability histogram')\n",
        "    plt2.legend(bbox_to_anchor=(1, 1))\n",
        "\n",
        "    plt.show()"
      ],
      "execution_count": 1245,
      "outputs": []
    },
    {
      "cell_type": "markdown",
      "metadata": {
        "id": "EEqDMuvxmHYN"
      },
      "source": [
        "## Пути к директориям и файлам"
      ]
    },
    {
      "cell_type": "code",
      "metadata": {
        "id": "Hkg5ZgzymK3u"
      },
      "source": [
        "# input\n",
        "TRAIN_DATASET_PATH = '../content/drive/My Drive/proj/course_project_train.csv'\n",
        "TEST_DATASET_PATH = '../content/drive/My Drive/proj/course_project_test.csv'\n",
        "\n",
        "# output\n",
        "PREP_DATASET_PATH = '../content/drive/My Drive/proj/project_data_prep.csv'\n",
        "FINAL_DATASET_PATH_ONLY_PRED = '../content/drive/My Drive/proj/BabinaLA_only_predictions.csv'\n",
        "FINAL_DATASET_PATH_FULL = '../content/drive/My Drive/proj/BabinaLA_predictions_with_data.csv'\n",
        "\n",
        "MODEL_FILE_PATH = '../content/drive/My Drive/proj/model.pkl'\n"
      ],
      "execution_count": 1388,
      "outputs": []
    },
    {
      "cell_type": "markdown",
      "metadata": {
        "id": "jM0xpMSumrS6"
      },
      "source": [
        "## Загрузка данных"
      ]
    },
    {
      "cell_type": "code",
      "metadata": {
        "id": "qmyWFlFjmul_",
        "outputId": "7555669e-1f6e-4a71-af1a-8c3f7778891e",
        "colab": {
          "base_uri": "https://localhost:8080/",
          "height": 360
        }
      },
      "source": [
        "df = pd.read_csv(TRAIN_DATASET_PATH)\n",
        "df.head()"
      ],
      "execution_count": 1247,
      "outputs": [
        {
          "output_type": "execute_result",
          "data": {
            "text/html": [
              "<div>\n",
              "<style scoped>\n",
              "    .dataframe tbody tr th:only-of-type {\n",
              "        vertical-align: middle;\n",
              "    }\n",
              "\n",
              "    .dataframe tbody tr th {\n",
              "        vertical-align: top;\n",
              "    }\n",
              "\n",
              "    .dataframe thead th {\n",
              "        text-align: right;\n",
              "    }\n",
              "</style>\n",
              "<table border=\"1\" class=\"dataframe\">\n",
              "  <thead>\n",
              "    <tr style=\"text-align: right;\">\n",
              "      <th></th>\n",
              "      <th>Home Ownership</th>\n",
              "      <th>Annual Income</th>\n",
              "      <th>Years in current job</th>\n",
              "      <th>Tax Liens</th>\n",
              "      <th>Number of Open Accounts</th>\n",
              "      <th>Years of Credit History</th>\n",
              "      <th>Maximum Open Credit</th>\n",
              "      <th>Number of Credit Problems</th>\n",
              "      <th>Months since last delinquent</th>\n",
              "      <th>Bankruptcies</th>\n",
              "      <th>Purpose</th>\n",
              "      <th>Term</th>\n",
              "      <th>Current Loan Amount</th>\n",
              "      <th>Current Credit Balance</th>\n",
              "      <th>Monthly Debt</th>\n",
              "      <th>Credit Score</th>\n",
              "      <th>Credit Default</th>\n",
              "    </tr>\n",
              "  </thead>\n",
              "  <tbody>\n",
              "    <tr>\n",
              "      <th>0</th>\n",
              "      <td>Own Home</td>\n",
              "      <td>482087.0</td>\n",
              "      <td>NaN</td>\n",
              "      <td>0.0</td>\n",
              "      <td>11.0</td>\n",
              "      <td>26.3</td>\n",
              "      <td>685960.0</td>\n",
              "      <td>1.0</td>\n",
              "      <td>NaN</td>\n",
              "      <td>1.0</td>\n",
              "      <td>debt consolidation</td>\n",
              "      <td>Short Term</td>\n",
              "      <td>99999999.0</td>\n",
              "      <td>47386.0</td>\n",
              "      <td>7914.0</td>\n",
              "      <td>749.0</td>\n",
              "      <td>0</td>\n",
              "    </tr>\n",
              "    <tr>\n",
              "      <th>1</th>\n",
              "      <td>Own Home</td>\n",
              "      <td>1025487.0</td>\n",
              "      <td>10+ years</td>\n",
              "      <td>0.0</td>\n",
              "      <td>15.0</td>\n",
              "      <td>15.3</td>\n",
              "      <td>1181730.0</td>\n",
              "      <td>0.0</td>\n",
              "      <td>NaN</td>\n",
              "      <td>0.0</td>\n",
              "      <td>debt consolidation</td>\n",
              "      <td>Long Term</td>\n",
              "      <td>264968.0</td>\n",
              "      <td>394972.0</td>\n",
              "      <td>18373.0</td>\n",
              "      <td>737.0</td>\n",
              "      <td>1</td>\n",
              "    </tr>\n",
              "    <tr>\n",
              "      <th>2</th>\n",
              "      <td>Home Mortgage</td>\n",
              "      <td>751412.0</td>\n",
              "      <td>8 years</td>\n",
              "      <td>0.0</td>\n",
              "      <td>11.0</td>\n",
              "      <td>35.0</td>\n",
              "      <td>1182434.0</td>\n",
              "      <td>0.0</td>\n",
              "      <td>NaN</td>\n",
              "      <td>0.0</td>\n",
              "      <td>debt consolidation</td>\n",
              "      <td>Short Term</td>\n",
              "      <td>99999999.0</td>\n",
              "      <td>308389.0</td>\n",
              "      <td>13651.0</td>\n",
              "      <td>742.0</td>\n",
              "      <td>0</td>\n",
              "    </tr>\n",
              "    <tr>\n",
              "      <th>3</th>\n",
              "      <td>Own Home</td>\n",
              "      <td>805068.0</td>\n",
              "      <td>6 years</td>\n",
              "      <td>0.0</td>\n",
              "      <td>8.0</td>\n",
              "      <td>22.5</td>\n",
              "      <td>147400.0</td>\n",
              "      <td>1.0</td>\n",
              "      <td>NaN</td>\n",
              "      <td>1.0</td>\n",
              "      <td>debt consolidation</td>\n",
              "      <td>Short Term</td>\n",
              "      <td>121396.0</td>\n",
              "      <td>95855.0</td>\n",
              "      <td>11338.0</td>\n",
              "      <td>694.0</td>\n",
              "      <td>0</td>\n",
              "    </tr>\n",
              "    <tr>\n",
              "      <th>4</th>\n",
              "      <td>Rent</td>\n",
              "      <td>776264.0</td>\n",
              "      <td>8 years</td>\n",
              "      <td>0.0</td>\n",
              "      <td>13.0</td>\n",
              "      <td>13.6</td>\n",
              "      <td>385836.0</td>\n",
              "      <td>1.0</td>\n",
              "      <td>NaN</td>\n",
              "      <td>0.0</td>\n",
              "      <td>debt consolidation</td>\n",
              "      <td>Short Term</td>\n",
              "      <td>125840.0</td>\n",
              "      <td>93309.0</td>\n",
              "      <td>7180.0</td>\n",
              "      <td>719.0</td>\n",
              "      <td>0</td>\n",
              "    </tr>\n",
              "  </tbody>\n",
              "</table>\n",
              "</div>"
            ],
            "text/plain": [
              "  Home Ownership  Annual Income  ... Credit Score  Credit Default\n",
              "0       Own Home       482087.0  ...        749.0               0\n",
              "1       Own Home      1025487.0  ...        737.0               1\n",
              "2  Home Mortgage       751412.0  ...        742.0               0\n",
              "3       Own Home       805068.0  ...        694.0               0\n",
              "4           Rent       776264.0  ...        719.0               0\n",
              "\n",
              "[5 rows x 17 columns]"
            ]
          },
          "metadata": {
            "tags": []
          },
          "execution_count": 1247
        }
      ]
    },
    {
      "cell_type": "code",
      "metadata": {
        "id": "9ahYIsFKX8rB",
        "outputId": "406b8d0c-1939-4980-e5d1-90c37d837f13",
        "colab": {
          "base_uri": "https://localhost:8080/",
          "height": 34
        }
      },
      "source": [
        "df.shape"
      ],
      "execution_count": 1248,
      "outputs": [
        {
          "output_type": "execute_result",
          "data": {
            "text/plain": [
              "(7500, 17)"
            ]
          },
          "metadata": {
            "tags": []
          },
          "execution_count": 1248
        }
      ]
    },
    {
      "cell_type": "code",
      "metadata": {
        "id": "7Tvobo9W1pCl",
        "outputId": "bc7af600-c965-4016-935e-d40bb043d402",
        "colab": {
          "base_uri": "https://localhost:8080/",
          "height": 360
        }
      },
      "source": [
        "df_test = pd.read_csv(TEST_DATASET_PATH)\n",
        "df_test.head()"
      ],
      "execution_count": 1249,
      "outputs": [
        {
          "output_type": "execute_result",
          "data": {
            "text/html": [
              "<div>\n",
              "<style scoped>\n",
              "    .dataframe tbody tr th:only-of-type {\n",
              "        vertical-align: middle;\n",
              "    }\n",
              "\n",
              "    .dataframe tbody tr th {\n",
              "        vertical-align: top;\n",
              "    }\n",
              "\n",
              "    .dataframe thead th {\n",
              "        text-align: right;\n",
              "    }\n",
              "</style>\n",
              "<table border=\"1\" class=\"dataframe\">\n",
              "  <thead>\n",
              "    <tr style=\"text-align: right;\">\n",
              "      <th></th>\n",
              "      <th>Home Ownership</th>\n",
              "      <th>Annual Income</th>\n",
              "      <th>Years in current job</th>\n",
              "      <th>Tax Liens</th>\n",
              "      <th>Number of Open Accounts</th>\n",
              "      <th>Years of Credit History</th>\n",
              "      <th>Maximum Open Credit</th>\n",
              "      <th>Number of Credit Problems</th>\n",
              "      <th>Months since last delinquent</th>\n",
              "      <th>Bankruptcies</th>\n",
              "      <th>Purpose</th>\n",
              "      <th>Term</th>\n",
              "      <th>Current Loan Amount</th>\n",
              "      <th>Current Credit Balance</th>\n",
              "      <th>Monthly Debt</th>\n",
              "      <th>Credit Score</th>\n",
              "    </tr>\n",
              "  </thead>\n",
              "  <tbody>\n",
              "    <tr>\n",
              "      <th>0</th>\n",
              "      <td>Rent</td>\n",
              "      <td>NaN</td>\n",
              "      <td>4 years</td>\n",
              "      <td>0.0</td>\n",
              "      <td>9.0</td>\n",
              "      <td>12.5</td>\n",
              "      <td>220968.0</td>\n",
              "      <td>0.0</td>\n",
              "      <td>70.0</td>\n",
              "      <td>0.0</td>\n",
              "      <td>debt consolidation</td>\n",
              "      <td>Short Term</td>\n",
              "      <td>162470.0</td>\n",
              "      <td>105906.0</td>\n",
              "      <td>6813.0</td>\n",
              "      <td>NaN</td>\n",
              "    </tr>\n",
              "    <tr>\n",
              "      <th>1</th>\n",
              "      <td>Rent</td>\n",
              "      <td>231838.0</td>\n",
              "      <td>1 year</td>\n",
              "      <td>0.0</td>\n",
              "      <td>6.0</td>\n",
              "      <td>32.7</td>\n",
              "      <td>55946.0</td>\n",
              "      <td>0.0</td>\n",
              "      <td>8.0</td>\n",
              "      <td>0.0</td>\n",
              "      <td>educational expenses</td>\n",
              "      <td>Short Term</td>\n",
              "      <td>78298.0</td>\n",
              "      <td>46037.0</td>\n",
              "      <td>2318.0</td>\n",
              "      <td>699.0</td>\n",
              "    </tr>\n",
              "    <tr>\n",
              "      <th>2</th>\n",
              "      <td>Home Mortgage</td>\n",
              "      <td>1152540.0</td>\n",
              "      <td>3 years</td>\n",
              "      <td>0.0</td>\n",
              "      <td>10.0</td>\n",
              "      <td>13.7</td>\n",
              "      <td>204600.0</td>\n",
              "      <td>0.0</td>\n",
              "      <td>NaN</td>\n",
              "      <td>0.0</td>\n",
              "      <td>debt consolidation</td>\n",
              "      <td>Short Term</td>\n",
              "      <td>200178.0</td>\n",
              "      <td>146490.0</td>\n",
              "      <td>18729.0</td>\n",
              "      <td>7260.0</td>\n",
              "    </tr>\n",
              "    <tr>\n",
              "      <th>3</th>\n",
              "      <td>Home Mortgage</td>\n",
              "      <td>1220313.0</td>\n",
              "      <td>10+ years</td>\n",
              "      <td>0.0</td>\n",
              "      <td>16.0</td>\n",
              "      <td>17.0</td>\n",
              "      <td>456302.0</td>\n",
              "      <td>0.0</td>\n",
              "      <td>70.0</td>\n",
              "      <td>0.0</td>\n",
              "      <td>debt consolidation</td>\n",
              "      <td>Short Term</td>\n",
              "      <td>217382.0</td>\n",
              "      <td>213199.0</td>\n",
              "      <td>27559.0</td>\n",
              "      <td>739.0</td>\n",
              "    </tr>\n",
              "    <tr>\n",
              "      <th>4</th>\n",
              "      <td>Home Mortgage</td>\n",
              "      <td>2340952.0</td>\n",
              "      <td>6 years</td>\n",
              "      <td>0.0</td>\n",
              "      <td>11.0</td>\n",
              "      <td>23.6</td>\n",
              "      <td>1207272.0</td>\n",
              "      <td>0.0</td>\n",
              "      <td>NaN</td>\n",
              "      <td>0.0</td>\n",
              "      <td>debt consolidation</td>\n",
              "      <td>Long Term</td>\n",
              "      <td>777634.0</td>\n",
              "      <td>425391.0</td>\n",
              "      <td>42605.0</td>\n",
              "      <td>706.0</td>\n",
              "    </tr>\n",
              "  </tbody>\n",
              "</table>\n",
              "</div>"
            ],
            "text/plain": [
              "  Home Ownership  Annual Income  ... Monthly Debt  Credit Score\n",
              "0           Rent            NaN  ...       6813.0           NaN\n",
              "1           Rent       231838.0  ...       2318.0         699.0\n",
              "2  Home Mortgage      1152540.0  ...      18729.0        7260.0\n",
              "3  Home Mortgage      1220313.0  ...      27559.0         739.0\n",
              "4  Home Mortgage      2340952.0  ...      42605.0         706.0\n",
              "\n",
              "[5 rows x 16 columns]"
            ]
          },
          "metadata": {
            "tags": []
          },
          "execution_count": 1249
        }
      ]
    },
    {
      "cell_type": "code",
      "metadata": {
        "id": "y6wiS6ETwI6f",
        "outputId": "c55c411d-d0f2-4f64-e291-10da282dc424",
        "colab": {
          "base_uri": "https://localhost:8080/",
          "height": 34
        }
      },
      "source": [
        "df_test.shape"
      ],
      "execution_count": 1250,
      "outputs": [
        {
          "output_type": "execute_result",
          "data": {
            "text/plain": [
              "(2500, 16)"
            ]
          },
          "metadata": {
            "tags": []
          },
          "execution_count": 1250
        }
      ]
    },
    {
      "cell_type": "code",
      "metadata": {
        "id": "1kY6Ff5rwTUS",
        "outputId": "5bc66987-817c-4285-faa1-a6f7d28405b6",
        "colab": {
          "base_uri": "https://localhost:8080/",
          "height": 323
        }
      },
      "source": [
        "df.dtypes"
      ],
      "execution_count": 1251,
      "outputs": [
        {
          "output_type": "execute_result",
          "data": {
            "text/plain": [
              "Home Ownership                   object\n",
              "Annual Income                   float64\n",
              "Years in current job             object\n",
              "Tax Liens                       float64\n",
              "Number of Open Accounts         float64\n",
              "Years of Credit History         float64\n",
              "Maximum Open Credit             float64\n",
              "Number of Credit Problems       float64\n",
              "Months since last delinquent    float64\n",
              "Bankruptcies                    float64\n",
              "Purpose                          object\n",
              "Term                             object\n",
              "Current Loan Amount             float64\n",
              "Current Credit Balance          float64\n",
              "Monthly Debt                    float64\n",
              "Credit Score                    float64\n",
              "Credit Default                    int64\n",
              "dtype: object"
            ]
          },
          "metadata": {
            "tags": []
          },
          "execution_count": 1251
        }
      ]
    },
    {
      "cell_type": "code",
      "metadata": {
        "id": "nzqWP0wBHf7q",
        "outputId": "289ba5d9-06e8-4e46-c4c4-c128675dc478",
        "colab": {
          "base_uri": "https://localhost:8080/",
          "height": 323
        }
      },
      "source": [
        "len(df) - df.count()"
      ],
      "execution_count": 1252,
      "outputs": [
        {
          "output_type": "execute_result",
          "data": {
            "text/plain": [
              "Home Ownership                     0\n",
              "Annual Income                   1557\n",
              "Years in current job             371\n",
              "Tax Liens                          0\n",
              "Number of Open Accounts            0\n",
              "Years of Credit History            0\n",
              "Maximum Open Credit                0\n",
              "Number of Credit Problems          0\n",
              "Months since last delinquent    4081\n",
              "Bankruptcies                      14\n",
              "Purpose                            0\n",
              "Term                               0\n",
              "Current Loan Amount                0\n",
              "Current Credit Balance             0\n",
              "Monthly Debt                       0\n",
              "Credit Score                    1557\n",
              "Credit Default                     0\n",
              "dtype: int64"
            ]
          },
          "metadata": {
            "tags": []
          },
          "execution_count": 1252
        }
      ]
    },
    {
      "cell_type": "code",
      "metadata": {
        "id": "Ee5iZ-LmQtT7",
        "outputId": "7d7103cb-32a2-469f-bf3e-634868612f38",
        "colab": {
          "base_uri": "https://localhost:8080/",
          "height": 306
        }
      },
      "source": [
        "len(df_test) - df_test.count()"
      ],
      "execution_count": 1253,
      "outputs": [
        {
          "output_type": "execute_result",
          "data": {
            "text/plain": [
              "Home Ownership                     0\n",
              "Annual Income                    513\n",
              "Years in current job              86\n",
              "Tax Liens                          0\n",
              "Number of Open Accounts            0\n",
              "Years of Credit History            0\n",
              "Maximum Open Credit                0\n",
              "Number of Credit Problems          0\n",
              "Months since last delinquent    1358\n",
              "Bankruptcies                       3\n",
              "Purpose                            0\n",
              "Term                               0\n",
              "Current Loan Amount                0\n",
              "Current Credit Balance             0\n",
              "Monthly Debt                       0\n",
              "Credit Score                     513\n",
              "dtype: int64"
            ]
          },
          "metadata": {
            "tags": []
          },
          "execution_count": 1253
        }
      ]
    },
    {
      "cell_type": "markdown",
      "metadata": {
        "id": "uQ7Q1_bdxu4p"
      },
      "source": [
        "## Приведение типов"
      ]
    },
    {
      "cell_type": "code",
      "metadata": {
        "id": "mWqprzjOxzl0"
      },
      "source": [
        "#в датасете 4 категориальных признака - зададим тип объектов\n",
        "Cat_prizn = ['Home Ownership', 'Years in current job', 'Purpose', 'Term']\n",
        "for colname in Cat_prizn:\n",
        "    df[colname] = df[colname].astype(str)"
      ],
      "execution_count": 1254,
      "outputs": []
    },
    {
      "cell_type": "code",
      "metadata": {
        "id": "J3TAb6jrtZDe"
      },
      "source": [
        "#в датасете 4 категориальных признака - зададим тип объектов\n",
        "Cat_prizn_test = ['Home Ownership', 'Years in current job', 'Purpose', 'Term']\n",
        "for colname in Cat_prizn_test:\n",
        "    df_test[colname] = df_test[colname].astype(str)"
      ],
      "execution_count": 1255,
      "outputs": []
    },
    {
      "cell_type": "markdown",
      "metadata": {
        "id": "IjjTUkT6n4af"
      },
      "source": [
        "## Обзор данных"
      ]
    },
    {
      "cell_type": "markdown",
      "metadata": {
        "id": "54Ge-0UC2FN7"
      },
      "source": [
        "**Обзор целевой переменной**"
      ]
    },
    {
      "cell_type": "code",
      "metadata": {
        "id": "0O6rxrIY0eRI",
        "outputId": "2b8cb7e6-8b1e-46ee-d93e-43c8b511624a",
        "colab": {
          "base_uri": "https://localhost:8080/",
          "height": 88
        }
      },
      "source": [
        "df['Credit Default'].value_counts(normalize=True)"
      ],
      "execution_count": 1256,
      "outputs": [
        {
          "output_type": "execute_result",
          "data": {
            "text/plain": [
              "0    0.718267\n",
              "1    0.281733\n",
              "Name: Credit Default, dtype: float64"
            ]
          },
          "metadata": {
            "tags": []
          },
          "execution_count": 1256
        }
      ]
    },
    {
      "cell_type": "markdown",
      "metadata": {
        "id": "MLo3O8oY2Kv9"
      },
      "source": [
        "**Обзор количественных признаков**"
      ]
    },
    {
      "cell_type": "code",
      "metadata": {
        "id": "XzOWajWiHIpC",
        "outputId": "68711700-dcfd-48a9-f99b-fe91954f4ad5",
        "colab": {
          "base_uri": "https://localhost:8080/",
          "height": 351
        }
      },
      "source": [
        "df.describe()"
      ],
      "execution_count": 1257,
      "outputs": [
        {
          "output_type": "execute_result",
          "data": {
            "text/html": [
              "<div>\n",
              "<style scoped>\n",
              "    .dataframe tbody tr th:only-of-type {\n",
              "        vertical-align: middle;\n",
              "    }\n",
              "\n",
              "    .dataframe tbody tr th {\n",
              "        vertical-align: top;\n",
              "    }\n",
              "\n",
              "    .dataframe thead th {\n",
              "        text-align: right;\n",
              "    }\n",
              "</style>\n",
              "<table border=\"1\" class=\"dataframe\">\n",
              "  <thead>\n",
              "    <tr style=\"text-align: right;\">\n",
              "      <th></th>\n",
              "      <th>Annual Income</th>\n",
              "      <th>Tax Liens</th>\n",
              "      <th>Number of Open Accounts</th>\n",
              "      <th>Years of Credit History</th>\n",
              "      <th>Maximum Open Credit</th>\n",
              "      <th>Number of Credit Problems</th>\n",
              "      <th>Months since last delinquent</th>\n",
              "      <th>Bankruptcies</th>\n",
              "      <th>Current Loan Amount</th>\n",
              "      <th>Current Credit Balance</th>\n",
              "      <th>Monthly Debt</th>\n",
              "      <th>Credit Score</th>\n",
              "      <th>Credit Default</th>\n",
              "    </tr>\n",
              "  </thead>\n",
              "  <tbody>\n",
              "    <tr>\n",
              "      <th>count</th>\n",
              "      <td>5.943000e+03</td>\n",
              "      <td>7500.000000</td>\n",
              "      <td>7500.000000</td>\n",
              "      <td>7500.000000</td>\n",
              "      <td>7.500000e+03</td>\n",
              "      <td>7500.000000</td>\n",
              "      <td>3419.000000</td>\n",
              "      <td>7486.000000</td>\n",
              "      <td>7.500000e+03</td>\n",
              "      <td>7.500000e+03</td>\n",
              "      <td>7500.000000</td>\n",
              "      <td>5943.000000</td>\n",
              "      <td>7500.000000</td>\n",
              "    </tr>\n",
              "    <tr>\n",
              "      <th>mean</th>\n",
              "      <td>1.366392e+06</td>\n",
              "      <td>0.030133</td>\n",
              "      <td>11.130933</td>\n",
              "      <td>18.317467</td>\n",
              "      <td>9.451537e+05</td>\n",
              "      <td>0.170000</td>\n",
              "      <td>34.692600</td>\n",
              "      <td>0.117152</td>\n",
              "      <td>1.187318e+07</td>\n",
              "      <td>2.898332e+05</td>\n",
              "      <td>18314.454133</td>\n",
              "      <td>1151.087498</td>\n",
              "      <td>0.281733</td>\n",
              "    </tr>\n",
              "    <tr>\n",
              "      <th>std</th>\n",
              "      <td>8.453392e+05</td>\n",
              "      <td>0.271604</td>\n",
              "      <td>4.908924</td>\n",
              "      <td>7.041946</td>\n",
              "      <td>1.602622e+07</td>\n",
              "      <td>0.498598</td>\n",
              "      <td>21.688806</td>\n",
              "      <td>0.347192</td>\n",
              "      <td>3.192612e+07</td>\n",
              "      <td>3.178714e+05</td>\n",
              "      <td>11926.764673</td>\n",
              "      <td>1604.451418</td>\n",
              "      <td>0.449874</td>\n",
              "    </tr>\n",
              "    <tr>\n",
              "      <th>min</th>\n",
              "      <td>1.645970e+05</td>\n",
              "      <td>0.000000</td>\n",
              "      <td>2.000000</td>\n",
              "      <td>4.000000</td>\n",
              "      <td>0.000000e+00</td>\n",
              "      <td>0.000000</td>\n",
              "      <td>0.000000</td>\n",
              "      <td>0.000000</td>\n",
              "      <td>1.124200e+04</td>\n",
              "      <td>0.000000e+00</td>\n",
              "      <td>0.000000</td>\n",
              "      <td>585.000000</td>\n",
              "      <td>0.000000</td>\n",
              "    </tr>\n",
              "    <tr>\n",
              "      <th>25%</th>\n",
              "      <td>8.443410e+05</td>\n",
              "      <td>0.000000</td>\n",
              "      <td>8.000000</td>\n",
              "      <td>13.500000</td>\n",
              "      <td>2.792295e+05</td>\n",
              "      <td>0.000000</td>\n",
              "      <td>16.000000</td>\n",
              "      <td>0.000000</td>\n",
              "      <td>1.801690e+05</td>\n",
              "      <td>1.142565e+05</td>\n",
              "      <td>10067.500000</td>\n",
              "      <td>711.000000</td>\n",
              "      <td>0.000000</td>\n",
              "    </tr>\n",
              "    <tr>\n",
              "      <th>50%</th>\n",
              "      <td>1.168386e+06</td>\n",
              "      <td>0.000000</td>\n",
              "      <td>10.000000</td>\n",
              "      <td>17.000000</td>\n",
              "      <td>4.781590e+05</td>\n",
              "      <td>0.000000</td>\n",
              "      <td>32.000000</td>\n",
              "      <td>0.000000</td>\n",
              "      <td>3.095730e+05</td>\n",
              "      <td>2.093230e+05</td>\n",
              "      <td>16076.500000</td>\n",
              "      <td>731.000000</td>\n",
              "      <td>0.000000</td>\n",
              "    </tr>\n",
              "    <tr>\n",
              "      <th>75%</th>\n",
              "      <td>1.640137e+06</td>\n",
              "      <td>0.000000</td>\n",
              "      <td>14.000000</td>\n",
              "      <td>21.800000</td>\n",
              "      <td>7.935015e+05</td>\n",
              "      <td>0.000000</td>\n",
              "      <td>50.000000</td>\n",
              "      <td>0.000000</td>\n",
              "      <td>5.198820e+05</td>\n",
              "      <td>3.604062e+05</td>\n",
              "      <td>23818.000000</td>\n",
              "      <td>743.000000</td>\n",
              "      <td>1.000000</td>\n",
              "    </tr>\n",
              "    <tr>\n",
              "      <th>max</th>\n",
              "      <td>1.014934e+07</td>\n",
              "      <td>7.000000</td>\n",
              "      <td>43.000000</td>\n",
              "      <td>57.700000</td>\n",
              "      <td>1.304726e+09</td>\n",
              "      <td>7.000000</td>\n",
              "      <td>118.000000</td>\n",
              "      <td>4.000000</td>\n",
              "      <td>1.000000e+08</td>\n",
              "      <td>6.506797e+06</td>\n",
              "      <td>136679.000000</td>\n",
              "      <td>7510.000000</td>\n",
              "      <td>1.000000</td>\n",
              "    </tr>\n",
              "  </tbody>\n",
              "</table>\n",
              "</div>"
            ],
            "text/plain": [
              "       Annual Income    Tax Liens  ...  Credit Score  Credit Default\n",
              "count   5.943000e+03  7500.000000  ...   5943.000000     7500.000000\n",
              "mean    1.366392e+06     0.030133  ...   1151.087498        0.281733\n",
              "std     8.453392e+05     0.271604  ...   1604.451418        0.449874\n",
              "min     1.645970e+05     0.000000  ...    585.000000        0.000000\n",
              "25%     8.443410e+05     0.000000  ...    711.000000        0.000000\n",
              "50%     1.168386e+06     0.000000  ...    731.000000        0.000000\n",
              "75%     1.640137e+06     0.000000  ...    743.000000        1.000000\n",
              "max     1.014934e+07     7.000000  ...   7510.000000        1.000000\n",
              "\n",
              "[8 rows x 13 columns]"
            ]
          },
          "metadata": {
            "tags": []
          },
          "execution_count": 1257
        }
      ]
    },
    {
      "cell_type": "code",
      "metadata": {
        "id": "TyBCS07Utj6e",
        "outputId": "cbabef97-28a4-4fb5-8665-68e9d005997d",
        "colab": {
          "base_uri": "https://localhost:8080/",
          "height": 351
        }
      },
      "source": [
        "df_test.describe()"
      ],
      "execution_count": 1258,
      "outputs": [
        {
          "output_type": "execute_result",
          "data": {
            "text/html": [
              "<div>\n",
              "<style scoped>\n",
              "    .dataframe tbody tr th:only-of-type {\n",
              "        vertical-align: middle;\n",
              "    }\n",
              "\n",
              "    .dataframe tbody tr th {\n",
              "        vertical-align: top;\n",
              "    }\n",
              "\n",
              "    .dataframe thead th {\n",
              "        text-align: right;\n",
              "    }\n",
              "</style>\n",
              "<table border=\"1\" class=\"dataframe\">\n",
              "  <thead>\n",
              "    <tr style=\"text-align: right;\">\n",
              "      <th></th>\n",
              "      <th>Annual Income</th>\n",
              "      <th>Tax Liens</th>\n",
              "      <th>Number of Open Accounts</th>\n",
              "      <th>Years of Credit History</th>\n",
              "      <th>Maximum Open Credit</th>\n",
              "      <th>Number of Credit Problems</th>\n",
              "      <th>Months since last delinquent</th>\n",
              "      <th>Bankruptcies</th>\n",
              "      <th>Current Loan Amount</th>\n",
              "      <th>Current Credit Balance</th>\n",
              "      <th>Monthly Debt</th>\n",
              "      <th>Credit Score</th>\n",
              "    </tr>\n",
              "  </thead>\n",
              "  <tbody>\n",
              "    <tr>\n",
              "      <th>count</th>\n",
              "      <td>1.987000e+03</td>\n",
              "      <td>2500.000000</td>\n",
              "      <td>2500.000000</td>\n",
              "      <td>2500.000000</td>\n",
              "      <td>2.500000e+03</td>\n",
              "      <td>2500.000000</td>\n",
              "      <td>1142.000000</td>\n",
              "      <td>2497.000000</td>\n",
              "      <td>2.500000e+03</td>\n",
              "      <td>2.500000e+03</td>\n",
              "      <td>2500.000000</td>\n",
              "      <td>1987.000000</td>\n",
              "    </tr>\n",
              "    <tr>\n",
              "      <th>mean</th>\n",
              "      <td>1.366922e+06</td>\n",
              "      <td>0.035200</td>\n",
              "      <td>11.184400</td>\n",
              "      <td>18.325920</td>\n",
              "      <td>7.105704e+05</td>\n",
              "      <td>0.162000</td>\n",
              "      <td>34.181261</td>\n",
              "      <td>0.106928</td>\n",
              "      <td>1.215572e+07</td>\n",
              "      <td>2.963966e+05</td>\n",
              "      <td>18271.340000</td>\n",
              "      <td>1234.516860</td>\n",
              "    </tr>\n",
              "    <tr>\n",
              "      <th>std</th>\n",
              "      <td>9.171252e+05</td>\n",
              "      <td>0.386291</td>\n",
              "      <td>4.852774</td>\n",
              "      <td>7.254659</td>\n",
              "      <td>1.511983e+06</td>\n",
              "      <td>0.559894</td>\n",
              "      <td>22.024277</td>\n",
              "      <td>0.357189</td>\n",
              "      <td>3.226097e+07</td>\n",
              "      <td>3.783020e+05</td>\n",
              "      <td>11543.881469</td>\n",
              "      <td>1740.219442</td>\n",
              "    </tr>\n",
              "    <tr>\n",
              "      <th>min</th>\n",
              "      <td>1.065330e+05</td>\n",
              "      <td>0.000000</td>\n",
              "      <td>1.000000</td>\n",
              "      <td>3.900000</td>\n",
              "      <td>0.000000e+00</td>\n",
              "      <td>0.000000</td>\n",
              "      <td>0.000000</td>\n",
              "      <td>0.000000</td>\n",
              "      <td>1.542200e+04</td>\n",
              "      <td>0.000000e+00</td>\n",
              "      <td>93.000000</td>\n",
              "      <td>585.000000</td>\n",
              "    </tr>\n",
              "    <tr>\n",
              "      <th>25%</th>\n",
              "      <td>8.523115e+05</td>\n",
              "      <td>0.000000</td>\n",
              "      <td>8.000000</td>\n",
              "      <td>13.400000</td>\n",
              "      <td>2.785860e+05</td>\n",
              "      <td>0.000000</td>\n",
              "      <td>16.000000</td>\n",
              "      <td>0.000000</td>\n",
              "      <td>1.871265e+05</td>\n",
              "      <td>1.101145e+05</td>\n",
              "      <td>10024.750000</td>\n",
              "      <td>710.000000</td>\n",
              "    </tr>\n",
              "    <tr>\n",
              "      <th>50%</th>\n",
              "      <td>1.178475e+06</td>\n",
              "      <td>0.000000</td>\n",
              "      <td>10.000000</td>\n",
              "      <td>17.000000</td>\n",
              "      <td>4.786760e+05</td>\n",
              "      <td>0.000000</td>\n",
              "      <td>30.000000</td>\n",
              "      <td>0.000000</td>\n",
              "      <td>3.223660e+05</td>\n",
              "      <td>2.073850e+05</td>\n",
              "      <td>16642.500000</td>\n",
              "      <td>731.000000</td>\n",
              "    </tr>\n",
              "    <tr>\n",
              "      <th>75%</th>\n",
              "      <td>1.629734e+06</td>\n",
              "      <td>0.000000</td>\n",
              "      <td>14.000000</td>\n",
              "      <td>22.100000</td>\n",
              "      <td>8.025985e+05</td>\n",
              "      <td>0.000000</td>\n",
              "      <td>50.000000</td>\n",
              "      <td>0.000000</td>\n",
              "      <td>5.225825e+05</td>\n",
              "      <td>3.663485e+05</td>\n",
              "      <td>24146.000000</td>\n",
              "      <td>743.000000</td>\n",
              "    </tr>\n",
              "    <tr>\n",
              "      <th>max</th>\n",
              "      <td>1.497561e+07</td>\n",
              "      <td>15.000000</td>\n",
              "      <td>48.000000</td>\n",
              "      <td>53.400000</td>\n",
              "      <td>5.448439e+07</td>\n",
              "      <td>15.000000</td>\n",
              "      <td>82.000000</td>\n",
              "      <td>5.000000</td>\n",
              "      <td>1.000000e+08</td>\n",
              "      <td>6.030087e+06</td>\n",
              "      <td>93555.000000</td>\n",
              "      <td>7480.000000</td>\n",
              "    </tr>\n",
              "  </tbody>\n",
              "</table>\n",
              "</div>"
            ],
            "text/plain": [
              "       Annual Income    Tax Liens  ...  Monthly Debt  Credit Score\n",
              "count   1.987000e+03  2500.000000  ...   2500.000000   1987.000000\n",
              "mean    1.366922e+06     0.035200  ...  18271.340000   1234.516860\n",
              "std     9.171252e+05     0.386291  ...  11543.881469   1740.219442\n",
              "min     1.065330e+05     0.000000  ...     93.000000    585.000000\n",
              "25%     8.523115e+05     0.000000  ...  10024.750000    710.000000\n",
              "50%     1.178475e+06     0.000000  ...  16642.500000    731.000000\n",
              "75%     1.629734e+06     0.000000  ...  24146.000000    743.000000\n",
              "max     1.497561e+07    15.000000  ...  93555.000000   7480.000000\n",
              "\n",
              "[8 rows x 12 columns]"
            ]
          },
          "metadata": {
            "tags": []
          },
          "execution_count": 1258
        }
      ]
    },
    {
      "cell_type": "markdown",
      "metadata": {
        "id": "oLj5sZCh2loj"
      },
      "source": [
        "**Обзор номинативных/категориальных признаков**"
      ]
    },
    {
      "cell_type": "code",
      "metadata": {
        "id": "JLBfzH7f2JoS",
        "outputId": "e7f13045-27a8-45d2-d733-153d414547b4",
        "colab": {
          "base_uri": "https://localhost:8080/",
          "height": 938
        }
      },
      "source": [
        "for cat_colname in df.select_dtypes(include='object').columns:\n",
        "    print(str(cat_colname) + '\\n\\n' + str(df[cat_colname].value_counts()) + '\\n' + '*' * 100 + '\\n')"
      ],
      "execution_count": 1259,
      "outputs": [
        {
          "output_type": "stream",
          "text": [
            "Home Ownership\n",
            "\n",
            "Home Mortgage    3637\n",
            "Rent             3204\n",
            "Own Home          647\n",
            "Have Mortgage      12\n",
            "Name: Home Ownership, dtype: int64\n",
            "****************************************************************************************************\n",
            "\n",
            "Years in current job\n",
            "\n",
            "10+ years    2332\n",
            "2 years       705\n",
            "3 years       620\n",
            "< 1 year      563\n",
            "5 years       516\n",
            "1 year        504\n",
            "4 years       469\n",
            "6 years       426\n",
            "7 years       396\n",
            "nan           371\n",
            "8 years       339\n",
            "9 years       259\n",
            "Name: Years in current job, dtype: int64\n",
            "****************************************************************************************************\n",
            "\n",
            "Purpose\n",
            "\n",
            "debt consolidation      5944\n",
            "other                    665\n",
            "home improvements        412\n",
            "business loan            129\n",
            "buy a car                 96\n",
            "medical bills             71\n",
            "major purchase            40\n",
            "take a trip               37\n",
            "buy house                 34\n",
            "small business            26\n",
            "wedding                   15\n",
            "moving                    11\n",
            "educational expenses      10\n",
            "vacation                   8\n",
            "renewable energy           2\n",
            "Name: Purpose, dtype: int64\n",
            "****************************************************************************************************\n",
            "\n",
            "Term\n",
            "\n",
            "Short Term    5556\n",
            "Long Term     1944\n",
            "Name: Term, dtype: int64\n",
            "****************************************************************************************************\n",
            "\n"
          ],
          "name": "stdout"
        }
      ]
    },
    {
      "cell_type": "code",
      "metadata": {
        "id": "bmwalWcTuPKO",
        "outputId": "94f7977e-3e9d-4873-8c9c-367c82c14b1c",
        "colab": {
          "base_uri": "https://localhost:8080/",
          "height": 921
        }
      },
      "source": [
        "for cat_colname in df_test.select_dtypes(include='object').columns:\n",
        "    print(str(cat_colname) + '\\n\\n' + str(df_test[cat_colname].value_counts()) + '\\n' + '*' * 100 + '\\n')"
      ],
      "execution_count": 1260,
      "outputs": [
        {
          "output_type": "stream",
          "text": [
            "Home Ownership\n",
            "\n",
            "Home Mortgage    1225\n",
            "Rent             1020\n",
            "Own Home          248\n",
            "Have Mortgage       7\n",
            "Name: Home Ownership, dtype: int64\n",
            "****************************************************************************************************\n",
            "\n",
            "Years in current job\n",
            "\n",
            "10+ years    810\n",
            "3 years      228\n",
            "2 years      212\n",
            "< 1 year     207\n",
            "5 years      169\n",
            "1 year       153\n",
            "4 years      152\n",
            "7 years      140\n",
            "6 years      137\n",
            "8 years      107\n",
            "9 years       99\n",
            "nan           86\n",
            "Name: Years in current job, dtype: int64\n",
            "****************************************************************************************************\n",
            "\n",
            "Purpose\n",
            "\n",
            "debt consolidation      1973\n",
            "other                    240\n",
            "home improvements        140\n",
            "buy a car                 34\n",
            "business loan             30\n",
            "medical bills             27\n",
            "buy house                 19\n",
            "take a trip               14\n",
            "major purchase             9\n",
            "small business             5\n",
            "vacation                   3\n",
            "educational expenses       3\n",
            "wedding                    2\n",
            "moving                     1\n",
            "Name: Purpose, dtype: int64\n",
            "****************************************************************************************************\n",
            "\n",
            "Term\n",
            "\n",
            "Short Term    1861\n",
            "Long Term      639\n",
            "Name: Term, dtype: int64\n",
            "****************************************************************************************************\n",
            "\n"
          ],
          "name": "stdout"
        }
      ]
    },
    {
      "cell_type": "markdown",
      "metadata": {
        "id": "ka1HvRD2vWYC"
      },
      "source": [
        "В датасете трейн есть дополнительная категория renewable energy в признаке Purpose(там всего 2 значения - не критично)\n",
        "В остальном все одинаково"
      ]
    },
    {
      "cell_type": "markdown",
      "metadata": {
        "id": "P32Ts3Vg8frP"
      },
      "source": [
        "## Обработка пропусков"
      ]
    },
    {
      "cell_type": "markdown",
      "metadata": {
        "id": "Me-zztkm8pi3"
      },
      "source": [
        "**Annual Income**"
      ]
    },
    {
      "cell_type": "code",
      "metadata": {
        "id": "fX40w9jD8mPN",
        "outputId": "d2a7e950-f798-4c95-e6fa-23845120716b",
        "colab": {
          "base_uri": "https://localhost:8080/",
          "height": 241
        }
      },
      "source": [
        "df['Annual Income'].value_counts(dropna=False)"
      ],
      "execution_count": 1261,
      "outputs": [
        {
          "output_type": "execute_result",
          "data": {
            "text/plain": [
              "NaN          1557\n",
              "1161660.0       4\n",
              "1058376.0       4\n",
              "1043651.0       4\n",
              "1338113.0       4\n",
              "             ... \n",
              "1141254.0       1\n",
              "7907382.0       1\n",
              "1534478.0       1\n",
              "972040.0        1\n",
              "585751.0        1\n",
              "Name: Annual Income, Length: 5479, dtype: int64"
            ]
          },
          "metadata": {
            "tags": []
          },
          "execution_count": 1261
        }
      ]
    },
    {
      "cell_type": "code",
      "metadata": {
        "id": "AWsYxBJ7vqyj",
        "outputId": "c384a004-28e2-409c-9c77-e1919e400cbe",
        "colab": {
          "base_uri": "https://localhost:8080/",
          "height": 241
        }
      },
      "source": [
        "df_test['Annual Income'].value_counts(dropna=False)"
      ],
      "execution_count": 1262,
      "outputs": [
        {
          "output_type": "execute_result",
          "data": {
            "text/plain": [
              "NaN          513\n",
              "1328803.0      3\n",
              "1237109.0      3\n",
              "1025145.0      3\n",
              "1214993.0      3\n",
              "            ... \n",
              "641687.0       1\n",
              "2304624.0      1\n",
              "985758.0       1\n",
              "1389888.0      1\n",
              "1486845.0      1\n",
              "Name: Annual Income, Length: 1930, dtype: int64"
            ]
          },
          "metadata": {
            "tags": []
          },
          "execution_count": 1262
        }
      ]
    },
    {
      "cell_type": "code",
      "metadata": {
        "id": "Axojxua9bjTp",
        "outputId": "be910cff-ea40-4ee0-d5cf-f2a57456fe60",
        "colab": {
          "base_uri": "https://localhost:8080/",
          "height": 54
        }
      },
      "source": [
        "plt.scatter(df['Annual Income'], df['Annual Income'])\n",
        "plt.show()"
      ],
      "execution_count": 1263,
      "outputs": [
        {
          "output_type": "display_data",
          "data": {
            "image/png": "[encoded data removed]",
            "text/plain": [
              "<Figure size 432x288 with 1 Axes>"
            ]
          },
          "metadata": {
            "tags": [],
            "needs_background": "light"
          }
        }
      ]
    },
    {
      "cell_type": "code",
      "metadata": {
        "id": "wytLWTMUvwBr",
        "outputId": "b0384322-e4ca-4f80-8b32-52afd0554ba2",
        "colab": {
          "base_uri": "https://localhost:8080/",
          "height": 54
        }
      },
      "source": [
        "plt.scatter(df_test['Annual Income'], df_test['Annual Income'])\n",
        "plt.show()"
      ],
      "execution_count": 1264,
      "outputs": [
        {
          "output_type": "display_data",
          "data": {
            "image/png": "[encoded data removed]",
            "text/plain": [
              "<Figure size 432x288 with 1 Axes>"
            ]
          },
          "metadata": {
            "tags": [],
            "needs_background": "light"
          }
        }
      ]
    },
    {
      "cell_type": "code",
      "metadata": {
        "id": "NgOYh7dTb0eP",
        "outputId": "bd6bdc37-f1be-41c5-9f1a-48f3298d0ed6",
        "colab": {
          "base_uri": "https://localhost:8080/",
          "height": 54
        }
      },
      "source": [
        "len(df[df['Annual Income']> 4000000])"
      ],
      "execution_count": 1265,
      "outputs": [
        {
          "output_type": "execute_result",
          "data": {
            "text/plain": [
              "91"
            ]
          },
          "metadata": {
            "tags": []
          },
          "execution_count": 1265
        }
      ]
    },
    {
      "cell_type": "code",
      "metadata": {
        "id": "liXg8HCav2Mq",
        "outputId": "00cdac58-f454-47fa-d994-6acba996dc43",
        "colab": {
          "base_uri": "https://localhost:8080/",
          "height": 54
        }
      },
      "source": [
        "len(df_test[df_test['Annual Income']> 4000000])"
      ],
      "execution_count": 1266,
      "outputs": [
        {
          "output_type": "execute_result",
          "data": {
            "text/plain": [
              "27"
            ]
          },
          "metadata": {
            "tags": []
          },
          "execution_count": 1266
        }
      ]
    },
    {
      "cell_type": "code",
      "metadata": {
        "id": "95JmCmbP80dG",
        "outputId": "7fd34732-dea0-47e3-801d-18ef55df0e22",
        "colab": {
          "base_uri": "https://localhost:8080/",
          "height": 54
        }
      },
      "source": [
        "df[df['Annual Income']<0].shape"
      ],
      "execution_count": 1267,
      "outputs": [
        {
          "output_type": "execute_result",
          "data": {
            "text/plain": [
              "(0, 17)"
            ]
          },
          "metadata": {
            "tags": []
          },
          "execution_count": 1267
        }
      ]
    },
    {
      "cell_type": "markdown",
      "metadata": {
        "id": "q5XosqjM-Hl9"
      },
      "source": [
        "Так как пропусков достаточно много - около 20 процентов, то для начала заполним пропуски значением -1, а в изменим эти значения (обучим модель)"
      ]
    },
    {
      "cell_type": "code",
      "metadata": {
        "id": "B4gXPyPv-6mv"
      },
      "source": [
        "df['Annual Income']=df['Annual Income'].fillna(-1)"
      ],
      "execution_count": 1268,
      "outputs": []
    },
    {
      "cell_type": "code",
      "metadata": {
        "id": "CclcbGnhvn2z"
      },
      "source": [
        "df_test['Annual Income']=df_test['Annual Income'].fillna(-1)"
      ],
      "execution_count": 1269,
      "outputs": []
    },
    {
      "cell_type": "markdown",
      "metadata": {
        "id": "51qcqcTa_iuY"
      },
      "source": [
        "**Years in current job**"
      ]
    },
    {
      "cell_type": "code",
      "metadata": {
        "id": "5g4w9q8K_kJr",
        "outputId": "89db151b-c3e9-4dc6-c30d-58cf6db4e883",
        "colab": {
          "base_uri": "https://localhost:8080/",
          "height": 258
        }
      },
      "source": [
        "df['Years in current job'].value_counts(dropna=False)"
      ],
      "execution_count": 1270,
      "outputs": [
        {
          "output_type": "execute_result",
          "data": {
            "text/plain": [
              "10+ years    2332\n",
              "2 years       705\n",
              "3 years       620\n",
              "< 1 year      563\n",
              "5 years       516\n",
              "1 year        504\n",
              "4 years       469\n",
              "6 years       426\n",
              "7 years       396\n",
              "nan           371\n",
              "8 years       339\n",
              "9 years       259\n",
              "Name: Years in current job, dtype: int64"
            ]
          },
          "metadata": {
            "tags": []
          },
          "execution_count": 1270
        }
      ]
    },
    {
      "cell_type": "code",
      "metadata": {
        "id": "9UxhjowMwg8n",
        "outputId": "66e97eef-1063-4e53-9c1e-6ac881628d50",
        "colab": {
          "base_uri": "https://localhost:8080/",
          "height": 258
        }
      },
      "source": [
        "df_test['Years in current job'].value_counts(dropna=False)"
      ],
      "execution_count": 1271,
      "outputs": [
        {
          "output_type": "execute_result",
          "data": {
            "text/plain": [
              "10+ years    810\n",
              "3 years      228\n",
              "2 years      212\n",
              "< 1 year     207\n",
              "5 years      169\n",
              "1 year       153\n",
              "4 years      152\n",
              "7 years      140\n",
              "6 years      137\n",
              "8 years      107\n",
              "9 years       99\n",
              "nan           86\n",
              "Name: Years in current job, dtype: int64"
            ]
          },
          "metadata": {
            "tags": []
          },
          "execution_count": 1271
        }
      ]
    },
    {
      "cell_type": "code",
      "metadata": {
        "id": "jDN4WjHRYmxQ"
      },
      "source": [
        "#заменим наиболее часто встречающимися значениями\n",
        "df.loc[df['Years in current job']=='nan', 'Years in current job'] = '10+ years'\n",
        "df_test.loc[df_test['Years in current job']=='nan', 'Years in current job'] = '10+ years'"
      ],
      "execution_count": 1272,
      "outputs": []
    },
    {
      "cell_type": "markdown",
      "metadata": {
        "id": "5GKNRGVFA6EL"
      },
      "source": [
        "**Months since last delinquent**"
      ]
    },
    {
      "cell_type": "code",
      "metadata": {
        "id": "-DZYU7oaA9Uh",
        "outputId": "f6132ca4-d643-4f74-a35c-52b6e94cc759",
        "colab": {
          "base_uri": "https://localhost:8080/",
          "height": 241
        }
      },
      "source": [
        "df['Months since last delinquent'].value_counts(dropna=False)"
      ],
      "execution_count": 1273,
      "outputs": [
        {
          "output_type": "execute_result",
          "data": {
            "text/plain": [
              "NaN      4081\n",
              "14.0       76\n",
              "29.0       71\n",
              "8.0        68\n",
              "33.0       68\n",
              "         ... \n",
              "84.0        1\n",
              "92.0        1\n",
              "86.0        1\n",
              "118.0       1\n",
              "91.0        1\n",
              "Name: Months since last delinquent, Length: 90, dtype: int64"
            ]
          },
          "metadata": {
            "tags": []
          },
          "execution_count": 1273
        }
      ]
    },
    {
      "cell_type": "code",
      "metadata": {
        "id": "qypTg5OFwtNl",
        "outputId": "99249125-c194-4ad9-92ca-e5d53fff4efc",
        "colab": {
          "base_uri": "https://localhost:8080/",
          "height": 241
        }
      },
      "source": [
        "df_test['Months since last delinquent'].value_counts(dropna=False)"
      ],
      "execution_count": 1274,
      "outputs": [
        {
          "output_type": "execute_result",
          "data": {
            "text/plain": [
              "NaN     1358\n",
              "16.0      30\n",
              "23.0      28\n",
              "14.0      28\n",
              "24.0      26\n",
              "        ... \n",
              "60.0       5\n",
              "81.0       5\n",
              "64.0       5\n",
              "65.0       5\n",
              "82.0       3\n",
              "Name: Months since last delinquent, Length: 84, dtype: int64"
            ]
          },
          "metadata": {
            "tags": []
          },
          "execution_count": 1274
        }
      ]
    },
    {
      "cell_type": "code",
      "metadata": {
        "id": "Lh8iUplJCJEA",
        "outputId": "7cdbb444-a100-49d9-d7a6-d5713a86c9f0",
        "colab": {
          "base_uri": "https://localhost:8080/",
          "height": 120
        }
      },
      "source": [
        "df[df['Months since last delinquent']<0]"
      ],
      "execution_count": 1275,
      "outputs": [
        {
          "output_type": "execute_result",
          "data": {
            "text/html": [
              "<div>\n",
              "<style scoped>\n",
              "    .dataframe tbody tr th:only-of-type {\n",
              "        vertical-align: middle;\n",
              "    }\n",
              "\n",
              "    .dataframe tbody tr th {\n",
              "        vertical-align: top;\n",
              "    }\n",
              "\n",
              "    .dataframe thead th {\n",
              "        text-align: right;\n",
              "    }\n",
              "</style>\n",
              "<table border=\"1\" class=\"dataframe\">\n",
              "  <thead>\n",
              "    <tr style=\"text-align: right;\">\n",
              "      <th></th>\n",
              "      <th>Home Ownership</th>\n",
              "      <th>Annual Income</th>\n",
              "      <th>Years in current job</th>\n",
              "      <th>Tax Liens</th>\n",
              "      <th>Number of Open Accounts</th>\n",
              "      <th>Years of Credit History</th>\n",
              "      <th>Maximum Open Credit</th>\n",
              "      <th>Number of Credit Problems</th>\n",
              "      <th>Months since last delinquent</th>\n",
              "      <th>Bankruptcies</th>\n",
              "      <th>Purpose</th>\n",
              "      <th>Term</th>\n",
              "      <th>Current Loan Amount</th>\n",
              "      <th>Current Credit Balance</th>\n",
              "      <th>Monthly Debt</th>\n",
              "      <th>Credit Score</th>\n",
              "      <th>Credit Default</th>\n",
              "    </tr>\n",
              "  </thead>\n",
              "  <tbody>\n",
              "  </tbody>\n",
              "</table>\n",
              "</div>"
            ],
            "text/plain": [
              "Empty DataFrame\n",
              "Columns: [Home Ownership, Annual Income, Years in current job, Tax Liens, Number of Open Accounts, Years of Credit History, Maximum Open Credit, Number of Credit Problems, Months since last delinquent, Bankruptcies, Purpose, Term, Current Loan Amount, Current Credit Balance, Monthly Debt, Credit Score, Credit Default]\n",
              "Index: []"
            ]
          },
          "metadata": {
            "tags": []
          },
          "execution_count": 1275
        }
      ]
    },
    {
      "cell_type": "code",
      "metadata": {
        "id": "hzLyWyFawwgn",
        "outputId": "b2ba72a0-e7e1-405b-a9ef-109b28023ad6",
        "colab": {
          "base_uri": "https://localhost:8080/",
          "height": 120
        }
      },
      "source": [
        "df_test[df_test['Months since last delinquent']<0]"
      ],
      "execution_count": 1276,
      "outputs": [
        {
          "output_type": "execute_result",
          "data": {
            "text/html": [
              "<div>\n",
              "<style scoped>\n",
              "    .dataframe tbody tr th:only-of-type {\n",
              "        vertical-align: middle;\n",
              "    }\n",
              "\n",
              "    .dataframe tbody tr th {\n",
              "        vertical-align: top;\n",
              "    }\n",
              "\n",
              "    .dataframe thead th {\n",
              "        text-align: right;\n",
              "    }\n",
              "</style>\n",
              "<table border=\"1\" class=\"dataframe\">\n",
              "  <thead>\n",
              "    <tr style=\"text-align: right;\">\n",
              "      <th></th>\n",
              "      <th>Home Ownership</th>\n",
              "      <th>Annual Income</th>\n",
              "      <th>Years in current job</th>\n",
              "      <th>Tax Liens</th>\n",
              "      <th>Number of Open Accounts</th>\n",
              "      <th>Years of Credit History</th>\n",
              "      <th>Maximum Open Credit</th>\n",
              "      <th>Number of Credit Problems</th>\n",
              "      <th>Months since last delinquent</th>\n",
              "      <th>Bankruptcies</th>\n",
              "      <th>Purpose</th>\n",
              "      <th>Term</th>\n",
              "      <th>Current Loan Amount</th>\n",
              "      <th>Current Credit Balance</th>\n",
              "      <th>Monthly Debt</th>\n",
              "      <th>Credit Score</th>\n",
              "    </tr>\n",
              "  </thead>\n",
              "  <tbody>\n",
              "  </tbody>\n",
              "</table>\n",
              "</div>"
            ],
            "text/plain": [
              "Empty DataFrame\n",
              "Columns: [Home Ownership, Annual Income, Years in current job, Tax Liens, Number of Open Accounts, Years of Credit History, Maximum Open Credit, Number of Credit Problems, Months since last delinquent, Bankruptcies, Purpose, Term, Current Loan Amount, Current Credit Balance, Monthly Debt, Credit Score]\n",
              "Index: []"
            ]
          },
          "metadata": {
            "tags": []
          },
          "execution_count": 1276
        }
      ]
    },
    {
      "cell_type": "markdown",
      "metadata": {
        "id": "jETSpmIVBJgx"
      },
      "source": [
        "Так как пропусков достаточно много - больше 50 процентов, то для начала заполним пропуски значением -1, а в изменим эти значения (обучим модель)"
      ]
    },
    {
      "cell_type": "code",
      "metadata": {
        "id": "q78swYwRCEQa"
      },
      "source": [
        "df['Months since last delinquent']=df['Months since last delinquent'].fillna(-1)\n",
        "df_test['Months since last delinquent']=df_test['Months since last delinquent'].fillna(-1)"
      ],
      "execution_count": 1277,
      "outputs": []
    },
    {
      "cell_type": "markdown",
      "metadata": {
        "id": "6K6qu2opC-N5"
      },
      "source": [
        "**Credit Score**"
      ]
    },
    {
      "cell_type": "code",
      "metadata": {
        "id": "0bSu112jDB1C",
        "outputId": "f124041e-a873-4383-b396-ec03d052d0c3",
        "colab": {
          "base_uri": "https://localhost:8080/",
          "height": 241
        }
      },
      "source": [
        "df['Credit Score'].value_counts(dropna=False)"
      ],
      "execution_count": 1278,
      "outputs": [
        {
          "output_type": "execute_result",
          "data": {
            "text/plain": [
              "NaN       1557\n",
              "740.0      169\n",
              "747.0      168\n",
              "748.0      157\n",
              "745.0      152\n",
              "          ... \n",
              "602.0        1\n",
              "616.0        1\n",
              "585.0        1\n",
              "620.0        1\n",
              "7010.0       1\n",
              "Name: Credit Score, Length: 269, dtype: int64"
            ]
          },
          "metadata": {
            "tags": []
          },
          "execution_count": 1278
        }
      ]
    },
    {
      "cell_type": "code",
      "metadata": {
        "id": "xZTMFi26w6sw",
        "outputId": "ea5af16c-2057-4ab2-aeb7-9950a4317040",
        "colab": {
          "base_uri": "https://localhost:8080/",
          "height": 241
        }
      },
      "source": [
        "df_test['Credit Score'].value_counts(dropna=False)"
      ],
      "execution_count": 1279,
      "outputs": [
        {
          "output_type": "execute_result",
          "data": {
            "text/plain": [
              "NaN       513\n",
              "746.0      56\n",
              "739.0      55\n",
              "741.0      54\n",
              "740.0      50\n",
              "         ... \n",
              "6850.0      1\n",
              "6310.0      1\n",
              "6150.0      1\n",
              "6840.0      1\n",
              "6670.0      1\n",
              "Name: Credit Score, Length: 212, dtype: int64"
            ]
          },
          "metadata": {
            "tags": []
          },
          "execution_count": 1279
        }
      ]
    },
    {
      "cell_type": "code",
      "metadata": {
        "id": "Y6TBZlYzFO4A",
        "outputId": "e9206df4-e6bb-42c1-adcb-047f790472f4",
        "colab": {
          "base_uri": "https://localhost:8080/",
          "height": 120
        }
      },
      "source": [
        "df[df['Credit Score']<=0]"
      ],
      "execution_count": 1280,
      "outputs": [
        {
          "output_type": "execute_result",
          "data": {
            "text/html": [
              "<div>\n",
              "<style scoped>\n",
              "    .dataframe tbody tr th:only-of-type {\n",
              "        vertical-align: middle;\n",
              "    }\n",
              "\n",
              "    .dataframe tbody tr th {\n",
              "        vertical-align: top;\n",
              "    }\n",
              "\n",
              "    .dataframe thead th {\n",
              "        text-align: right;\n",
              "    }\n",
              "</style>\n",
              "<table border=\"1\" class=\"dataframe\">\n",
              "  <thead>\n",
              "    <tr style=\"text-align: right;\">\n",
              "      <th></th>\n",
              "      <th>Home Ownership</th>\n",
              "      <th>Annual Income</th>\n",
              "      <th>Years in current job</th>\n",
              "      <th>Tax Liens</th>\n",
              "      <th>Number of Open Accounts</th>\n",
              "      <th>Years of Credit History</th>\n",
              "      <th>Maximum Open Credit</th>\n",
              "      <th>Number of Credit Problems</th>\n",
              "      <th>Months since last delinquent</th>\n",
              "      <th>Bankruptcies</th>\n",
              "      <th>Purpose</th>\n",
              "      <th>Term</th>\n",
              "      <th>Current Loan Amount</th>\n",
              "      <th>Current Credit Balance</th>\n",
              "      <th>Monthly Debt</th>\n",
              "      <th>Credit Score</th>\n",
              "      <th>Credit Default</th>\n",
              "    </tr>\n",
              "  </thead>\n",
              "  <tbody>\n",
              "  </tbody>\n",
              "</table>\n",
              "</div>"
            ],
            "text/plain": [
              "Empty DataFrame\n",
              "Columns: [Home Ownership, Annual Income, Years in current job, Tax Liens, Number of Open Accounts, Years of Credit History, Maximum Open Credit, Number of Credit Problems, Months since last delinquent, Bankruptcies, Purpose, Term, Current Loan Amount, Current Credit Balance, Monthly Debt, Credit Score, Credit Default]\n",
              "Index: []"
            ]
          },
          "metadata": {
            "tags": []
          },
          "execution_count": 1280
        }
      ]
    },
    {
      "cell_type": "code",
      "metadata": {
        "id": "E0jBFKouxNM6",
        "outputId": "43c1c4bf-6393-4e8f-b33d-8382f0b1cf5c",
        "colab": {
          "base_uri": "https://localhost:8080/",
          "height": 120
        }
      },
      "source": [
        "df_test[df_test['Credit Score']<=0]"
      ],
      "execution_count": 1281,
      "outputs": [
        {
          "output_type": "execute_result",
          "data": {
            "text/html": [
              "<div>\n",
              "<style scoped>\n",
              "    .dataframe tbody tr th:only-of-type {\n",
              "        vertical-align: middle;\n",
              "    }\n",
              "\n",
              "    .dataframe tbody tr th {\n",
              "        vertical-align: top;\n",
              "    }\n",
              "\n",
              "    .dataframe thead th {\n",
              "        text-align: right;\n",
              "    }\n",
              "</style>\n",
              "<table border=\"1\" class=\"dataframe\">\n",
              "  <thead>\n",
              "    <tr style=\"text-align: right;\">\n",
              "      <th></th>\n",
              "      <th>Home Ownership</th>\n",
              "      <th>Annual Income</th>\n",
              "      <th>Years in current job</th>\n",
              "      <th>Tax Liens</th>\n",
              "      <th>Number of Open Accounts</th>\n",
              "      <th>Years of Credit History</th>\n",
              "      <th>Maximum Open Credit</th>\n",
              "      <th>Number of Credit Problems</th>\n",
              "      <th>Months since last delinquent</th>\n",
              "      <th>Bankruptcies</th>\n",
              "      <th>Purpose</th>\n",
              "      <th>Term</th>\n",
              "      <th>Current Loan Amount</th>\n",
              "      <th>Current Credit Balance</th>\n",
              "      <th>Monthly Debt</th>\n",
              "      <th>Credit Score</th>\n",
              "    </tr>\n",
              "  </thead>\n",
              "  <tbody>\n",
              "  </tbody>\n",
              "</table>\n",
              "</div>"
            ],
            "text/plain": [
              "Empty DataFrame\n",
              "Columns: [Home Ownership, Annual Income, Years in current job, Tax Liens, Number of Open Accounts, Years of Credit History, Maximum Open Credit, Number of Credit Problems, Months since last delinquent, Bankruptcies, Purpose, Term, Current Loan Amount, Current Credit Balance, Monthly Debt, Credit Score]\n",
              "Index: []"
            ]
          },
          "metadata": {
            "tags": []
          },
          "execution_count": 1281
        }
      ]
    },
    {
      "cell_type": "code",
      "metadata": {
        "id": "NEFf-tgvFoSC"
      },
      "source": [
        "# заполним все пропуски в столбце скоринга нулями, далее обучим модель\n",
        "df['Credit Score']=df['Credit Score'].fillna(0)\n",
        "df_test['Credit Score']=df_test['Credit Score'].fillna(0)"
      ],
      "execution_count": 1282,
      "outputs": []
    },
    {
      "cell_type": "markdown",
      "metadata": {
        "id": "9mcVDXgTGBTw"
      },
      "source": [
        "**Bankruptcies**"
      ]
    },
    {
      "cell_type": "code",
      "metadata": {
        "id": "GmlzMCdKGDoV",
        "outputId": "e04a1b36-df0d-463d-b9b3-7c9dd007509c",
        "colab": {
          "base_uri": "https://localhost:8080/",
          "height": 156
        }
      },
      "source": [
        "df['Bankruptcies'].value_counts(dropna=False)"
      ],
      "execution_count": 1283,
      "outputs": [
        {
          "output_type": "execute_result",
          "data": {
            "text/plain": [
              "0.0    6660\n",
              "1.0     786\n",
              "2.0      31\n",
              "NaN      14\n",
              "3.0       7\n",
              "4.0       2\n",
              "Name: Bankruptcies, dtype: int64"
            ]
          },
          "metadata": {
            "tags": []
          },
          "execution_count": 1283
        }
      ]
    },
    {
      "cell_type": "code",
      "metadata": {
        "id": "Y5_mtr-gxVGp",
        "outputId": "44ba7690-8708-4df4-afda-0f58d2284108",
        "colab": {
          "base_uri": "https://localhost:8080/",
          "height": 173
        }
      },
      "source": [
        "df_test['Bankruptcies'].value_counts(dropna=False)"
      ],
      "execution_count": 1284,
      "outputs": [
        {
          "output_type": "execute_result",
          "data": {
            "text/plain": [
              "0.0    2252\n",
              "1.0     234\n",
              "2.0       5\n",
              "3.0       3\n",
              "NaN       3\n",
              "5.0       2\n",
              "4.0       1\n",
              "Name: Bankruptcies, dtype: int64"
            ]
          },
          "metadata": {
            "tags": []
          },
          "execution_count": 1284
        }
      ]
    },
    {
      "cell_type": "code",
      "metadata": {
        "id": "-v-6pytDGx1d"
      },
      "source": [
        "#заменим наиболее встречающимся значением\n",
        "df['Bankruptcies']=df['Bankruptcies'].fillna(0)\n",
        "df_test['Bankruptcies']=df_test['Bankruptcies'].fillna(0)"
      ],
      "execution_count": 1285,
      "outputs": []
    },
    {
      "cell_type": "code",
      "metadata": {
        "id": "S72pq2qTF-Er",
        "outputId": "335a2147-8a7f-4c8e-82c2-f85748eb27d4",
        "colab": {
          "base_uri": "https://localhost:8080/",
          "height": 343
        }
      },
      "source": [
        "len(df) - df.count()"
      ],
      "execution_count": 1286,
      "outputs": [
        {
          "output_type": "execute_result",
          "data": {
            "text/plain": [
              "Home Ownership                  0\n",
              "Annual Income                   0\n",
              "Years in current job            0\n",
              "Tax Liens                       0\n",
              "Number of Open Accounts         0\n",
              "Years of Credit History         0\n",
              "Maximum Open Credit             0\n",
              "Number of Credit Problems       0\n",
              "Months since last delinquent    0\n",
              "Bankruptcies                    0\n",
              "Purpose                         0\n",
              "Term                            0\n",
              "Current Loan Amount             0\n",
              "Current Credit Balance          0\n",
              "Monthly Debt                    0\n",
              "Credit Score                    0\n",
              "Credit Default                  0\n",
              "dtype: int64"
            ]
          },
          "metadata": {
            "tags": []
          },
          "execution_count": 1286
        }
      ]
    },
    {
      "cell_type": "code",
      "metadata": {
        "id": "E-w2-hYgxdt2",
        "outputId": "188b4198-3da6-472e-dd64-ee1894cb5522",
        "colab": {
          "base_uri": "https://localhost:8080/",
          "height": 326
        }
      },
      "source": [
        "len(df_test) - df_test.count()"
      ],
      "execution_count": 1287,
      "outputs": [
        {
          "output_type": "execute_result",
          "data": {
            "text/plain": [
              "Home Ownership                  0\n",
              "Annual Income                   0\n",
              "Years in current job            0\n",
              "Tax Liens                       0\n",
              "Number of Open Accounts         0\n",
              "Years of Credit History         0\n",
              "Maximum Open Credit             0\n",
              "Number of Credit Problems       0\n",
              "Months since last delinquent    0\n",
              "Bankruptcies                    0\n",
              "Purpose                         0\n",
              "Term                            0\n",
              "Current Loan Amount             0\n",
              "Current Credit Balance          0\n",
              "Monthly Debt                    0\n",
              "Credit Score                    0\n",
              "dtype: int64"
            ]
          },
          "metadata": {
            "tags": []
          },
          "execution_count": 1287
        }
      ]
    },
    {
      "cell_type": "markdown",
      "metadata": {
        "id": "qs0DA1sWSTgp"
      },
      "source": [
        "## Обработка выбросов"
      ]
    },
    {
      "cell_type": "markdown",
      "metadata": {
        "id": "mT6OWsFgtO7f"
      },
      "source": [
        "### Home Ownership - категориальный признак"
      ]
    },
    {
      "cell_type": "code",
      "metadata": {
        "id": "bEvGtlXZn7n7",
        "outputId": "2dd617bd-b2bb-4a4e-bb9e-7e3276b4b133",
        "colab": {
          "base_uri": "https://localhost:8080/",
          "height": 122
        }
      },
      "source": [
        "df['Home Ownership'].value_counts()"
      ],
      "execution_count": 1288,
      "outputs": [
        {
          "output_type": "execute_result",
          "data": {
            "text/plain": [
              "Home Mortgage    3637\n",
              "Rent             3204\n",
              "Own Home          647\n",
              "Have Mortgage      12\n",
              "Name: Home Ownership, dtype: int64"
            ]
          },
          "metadata": {
            "tags": []
          },
          "execution_count": 1288
        }
      ]
    },
    {
      "cell_type": "code",
      "metadata": {
        "id": "HfxmwSh1xiGH",
        "outputId": "0ccab042-8d9b-4c85-f7d8-26800ebbef23",
        "colab": {
          "base_uri": "https://localhost:8080/",
          "height": 122
        }
      },
      "source": [
        "df_test['Home Ownership'].value_counts()"
      ],
      "execution_count": 1289,
      "outputs": [
        {
          "output_type": "execute_result",
          "data": {
            "text/plain": [
              "Home Mortgage    1225\n",
              "Rent             1020\n",
              "Own Home          248\n",
              "Have Mortgage       7\n",
              "Name: Home Ownership, dtype: int64"
            ]
          },
          "metadata": {
            "tags": []
          },
          "execution_count": 1289
        }
      ]
    },
    {
      "cell_type": "markdown",
      "metadata": {
        "id": "LVQzZqqitUqK"
      },
      "source": [
        "### Years in current job - категориальный признак"
      ]
    },
    {
      "cell_type": "code",
      "metadata": {
        "id": "73WpZ9MZF61n",
        "outputId": "a02408ae-cfc0-4919-e325-6b39d8cecb35",
        "colab": {
          "base_uri": "https://localhost:8080/",
          "height": 241
        }
      },
      "source": [
        "#оставляем так\n",
        "df['Years in current job'].value_counts(dropna=False)"
      ],
      "execution_count": 1290,
      "outputs": [
        {
          "output_type": "execute_result",
          "data": {
            "text/plain": [
              "10+ years    2703\n",
              "2 years       705\n",
              "3 years       620\n",
              "< 1 year      563\n",
              "5 years       516\n",
              "1 year        504\n",
              "4 years       469\n",
              "6 years       426\n",
              "7 years       396\n",
              "8 years       339\n",
              "9 years       259\n",
              "Name: Years in current job, dtype: int64"
            ]
          },
          "metadata": {
            "tags": []
          },
          "execution_count": 1290
        }
      ]
    },
    {
      "cell_type": "code",
      "metadata": {
        "id": "Sy8u9mVRwJDd",
        "outputId": "bf4dbe85-1dcb-4a3c-d007-0ad18659796c",
        "colab": {
          "base_uri": "https://localhost:8080/",
          "height": 241
        }
      },
      "source": [
        "df_test['Years in current job'].value_counts(dropna=False)"
      ],
      "execution_count": 1291,
      "outputs": [
        {
          "output_type": "execute_result",
          "data": {
            "text/plain": [
              "10+ years    896\n",
              "3 years      228\n",
              "2 years      212\n",
              "< 1 year     207\n",
              "5 years      169\n",
              "1 year       153\n",
              "4 years      152\n",
              "7 years      140\n",
              "6 years      137\n",
              "8 years      107\n",
              "9 years       99\n",
              "Name: Years in current job, dtype: int64"
            ]
          },
          "metadata": {
            "tags": []
          },
          "execution_count": 1291
        }
      ]
    },
    {
      "cell_type": "markdown",
      "metadata": {
        "id": "03cPlfPLteGw"
      },
      "source": [
        "### Annual Income"
      ]
    },
    {
      "cell_type": "code",
      "metadata": {
        "id": "qE9tG_DdFVeg",
        "outputId": "4657b514-4c31-45cb-8a51-70a34fd9b062",
        "colab": {
          "base_uri": "https://localhost:8080/",
          "height": 241
        }
      },
      "source": [
        "df['Annual Income'].value_counts(dropna = False)"
      ],
      "execution_count": 1292,
      "outputs": [
        {
          "output_type": "execute_result",
          "data": {
            "text/plain": [
              "-1.0          1557\n",
              " 1161660.0       4\n",
              " 1058376.0       4\n",
              " 1043651.0       4\n",
              " 1338113.0       4\n",
              "              ... \n",
              " 1141254.0       1\n",
              " 7907382.0       1\n",
              " 1534478.0       1\n",
              " 972040.0        1\n",
              " 585751.0        1\n",
              "Name: Annual Income, Length: 5479, dtype: int64"
            ]
          },
          "metadata": {
            "tags": []
          },
          "execution_count": 1292
        }
      ]
    },
    {
      "cell_type": "code",
      "metadata": {
        "id": "K-TV6yk14Itn",
        "outputId": "e355f117-2aaf-4392-d170-eb28dca8cbff",
        "colab": {
          "base_uri": "https://localhost:8080/",
          "height": 241
        }
      },
      "source": [
        "df_test['Annual Income'].value_counts(dropna = False)"
      ],
      "execution_count": 1293,
      "outputs": [
        {
          "output_type": "execute_result",
          "data": {
            "text/plain": [
              "-1.0          513\n",
              " 1328803.0      3\n",
              " 1237109.0      3\n",
              " 1025145.0      3\n",
              " 1214993.0      3\n",
              "             ... \n",
              " 641687.0       1\n",
              " 2304624.0      1\n",
              " 985758.0       1\n",
              " 1389888.0      1\n",
              " 1486845.0      1\n",
              "Name: Annual Income, Length: 1930, dtype: int64"
            ]
          },
          "metadata": {
            "tags": []
          },
          "execution_count": 1293
        }
      ]
    },
    {
      "cell_type": "code",
      "metadata": {
        "id": "QhCqC0Ru_UFa",
        "outputId": "8779fdb8-902c-44d4-8a67-061def57667d",
        "colab": {
          "base_uri": "https://localhost:8080/",
          "height": 139
        }
      },
      "source": [
        "x = df[df['Annual Income']>=0]['Annual Income'].values\n",
        "fig = plt.figure(figsize=(15, 5))\n",
        "plt.subplot(121)\n",
        "probplot (x=x, plot= plt)"
      ],
      "execution_count": 1294,
      "outputs": [
        {
          "output_type": "execute_result",
          "data": {
            "text/plain": [
              "((array([-3.67998084, -3.44731998, -3.31922171, ...,  3.31922171,\n",
              "          3.44731998,  3.67998084]),\n",
              "  array([  164597.,   175845.,   177251., ...,  8923844.,  9338880.,\n",
              "         10149344.])),\n",
              " (743996.4789333917, 1366391.7201749957, 0.8796869995004449))"
            ]
          },
          "metadata": {
            "tags": []
          },
          "execution_count": 1294
        },
        {
          "output_type": "display_data",
          "data": {
            "image/png": "[encoded data removed]",
            "text/plain": [
              "<Figure size 1080x360 with 1 Axes>"
            ]
          },
          "metadata": {
            "tags": [],
            "needs_background": "light"
          }
        }
      ]
    },
    {
      "cell_type": "code",
      "metadata": {
        "id": "5dOxLRcHdbfR"
      },
      "source": [
        "df.loc[df['Annual Income']> 4000000, 'Annual Income'] = -1\n",
        "df_test.loc[df_test['Annual Income']> 4000000, 'Annual Income'] = -1"
      ],
      "execution_count": 1295,
      "outputs": []
    },
    {
      "cell_type": "markdown",
      "metadata": {
        "id": "Tn6I7DC1tj4h"
      },
      "source": [
        "### Tax Liens"
      ]
    },
    {
      "cell_type": "code",
      "metadata": {
        "id": "i5FDfuyYa6f2"
      },
      "source": [
        "#объединим значения больше 3\n",
        "df.loc[df['Tax Liens']> 3, 'Tax Liens'] = 3\n",
        "df_test.loc[df_test['Tax Liens']> 3, 'Tax Liens'] = 3"
      ],
      "execution_count": 1296,
      "outputs": []
    },
    {
      "cell_type": "markdown",
      "metadata": {
        "id": "oOr5O4UltqgA"
      },
      "source": [
        "### Number of Open Accounts"
      ]
    },
    {
      "cell_type": "code",
      "metadata": {
        "id": "cKtvmp52cVJ7"
      },
      "source": [
        "x = []\n",
        "for i in range(len(df['Number of Open Accounts'])):\n",
        "  a = df['Number of Open Accounts'][i]\n",
        "  x.append(a**0.3)"
      ],
      "execution_count": 1297,
      "outputs": []
    },
    {
      "cell_type": "code",
      "metadata": {
        "id": "w6OpKNkSbeYv",
        "outputId": "111dae11-1fa4-4f61-eecd-2ac1fd38fa32",
        "colab": {
          "base_uri": "https://localhost:8080/",
          "height": 139
        }
      },
      "source": [
        "#x = df['Number of Open Accounts'].values\n",
        "fig = plt.figure(figsize=(15, 5))\n",
        "plt.subplot(121)\n",
        "probplot (x=x, plot= plt)"
      ],
      "execution_count": 1298,
      "outputs": [
        {
          "output_type": "execute_result",
          "data": {
            "text/plain": [
              "((array([-3.73889526, -3.50968086, -3.3836472 , ...,  3.3836472 ,\n",
              "          3.50968086,  3.73889526]),\n",
              "  array([1.23114441, 1.23114441, 1.23114441, ..., 3.04673833, 3.06884382,\n",
              "         3.09058389])),\n",
              " (0.2662954723411313, 2.0199037640355524, 0.9968819134449317))"
            ]
          },
          "metadata": {
            "tags": []
          },
          "execution_count": 1298
        },
        {
          "output_type": "display_data",
          "data": {
            "image/png": "[encoded data removed]",
            "text/plain": [
              "<Figure size 1080x360 with 1 Axes>"
            ]
          },
          "metadata": {
            "tags": [],
            "needs_background": "light"
          }
        }
      ]
    },
    {
      "cell_type": "code",
      "metadata": {
        "id": "T800ZIV3bXp2"
      },
      "source": [
        "#Number of Open Accounts уберем выбросы - +- три сигмы\n",
        "mean = df['Number of Open Accounts'].mean()\n",
        "std = df['Number of Open Accounts'].std()\n",
        "\n",
        "df.loc[df['Number of Open Accounts'] < (mean - 3* std), 'Number of Open Accounts'] = mean\n",
        "df.loc[df['Number of Open Accounts'] > (mean + 3* std), 'Number of Open Accounts'] = mean\n",
        "\n",
        "mean_test = df_test['Number of Open Accounts'].mean()\n",
        "std_test = df_test['Number of Open Accounts'].std()\n",
        "\n",
        "df_test.loc[df_test['Number of Open Accounts'] < (mean_test - 3* std_test), 'Number of Open Accounts'] = mean_test\n",
        "df_test.loc[df_test['Number of Open Accounts'] > (mean_test + 3* std_test), 'Number of Open Accounts'] = mean_test"
      ],
      "execution_count": 1299,
      "outputs": []
    },
    {
      "cell_type": "markdown",
      "metadata": {
        "id": "FJyPW1d2tui3"
      },
      "source": [
        "### Years of Credit History"
      ]
    },
    {
      "cell_type": "code",
      "metadata": {
        "id": "2BPBwk63LUGN",
        "outputId": "d33421cd-39a2-4fd8-d735-42d5fc75b737",
        "colab": {
          "base_uri": "https://localhost:8080/",
          "height": 241
        }
      },
      "source": [
        "df['Years of Credit History'].value_counts(dropna=False)\n",
        "# если смотреть продолжительность жизни https://gtmarket.ru/ratings/life-expectancy-index\n",
        "# и ориентироваться на Россию - то это 72 года, соответвенно кредит можно взять в 18, то есть максимальное среднее время \n",
        "# возраст кредитной истории 56 лет\n",
        "# В датасете макисмально 57,7 - вцелом можно оставить так и не принимать такие значения за выброс"
      ],
      "execution_count": 1300,
      "outputs": [
        {
          "output_type": "execute_result",
          "data": {
            "text/plain": [
              "15.0    104\n",
              "16.0     99\n",
              "16.5     91\n",
              "17.0     86\n",
              "17.5     83\n",
              "       ... \n",
              "43.2      1\n",
              "4.9       1\n",
              "39.5      1\n",
              "42.4      1\n",
              "39.8      1\n",
              "Name: Years of Credit History, Length: 408, dtype: int64"
            ]
          },
          "metadata": {
            "tags": []
          },
          "execution_count": 1300
        }
      ]
    },
    {
      "cell_type": "code",
      "metadata": {
        "id": "zWAM8Gnd5Vo2",
        "outputId": "d7f14fe3-71ee-4da0-956b-19c304aca096",
        "colab": {
          "base_uri": "https://localhost:8080/",
          "height": 54
        }
      },
      "source": [
        "df_test['Years of Credit History'].max()"
      ],
      "execution_count": 1301,
      "outputs": [
        {
          "output_type": "execute_result",
          "data": {
            "text/plain": [
              "53.4"
            ]
          },
          "metadata": {
            "tags": []
          },
          "execution_count": 1301
        }
      ]
    },
    {
      "cell_type": "markdown",
      "metadata": {
        "id": "NzsjO3f_tzyd"
      },
      "source": [
        "### Maximum Open Credit"
      ]
    },
    {
      "cell_type": "code",
      "metadata": {
        "id": "yjfalNuMfVm7"
      },
      "source": [
        "#Maximum Open Credit уберем выбросы - +- три сигмы\n",
        "\n",
        "mean = df['Maximum Open Credit'].mean()\n",
        "std = df['Maximum Open Credit'].std()\n",
        "df.loc[df['Maximum Open Credit']==0, 'Maximum Open Credit'] = df['Maximum Open Credit'].mean()\n",
        "df.loc[df['Maximum Open Credit'] < (mean - 3* std), 'Maximum Open Credit'] = df['Maximum Open Credit'].mean()\n",
        "df.loc[df['Maximum Open Credit'] > (mean + 3* std), 'Maximum Open Credit'] = df['Maximum Open Credit'].mean()\n",
        "\n",
        "\n",
        "mean_test = df_test['Maximum Open Credit'].mean()\n",
        "std_test = df_test['Maximum Open Credit'].std()\n",
        "df_test.loc[df['Maximum Open Credit']==0, 'Maximum Open Credit'] = df_test['Maximum Open Credit'].mean()\n",
        "df_test.loc[df['Maximum Open Credit'] < (mean_test - 3* std_test), 'Maximum Open Credit'] = df_test['Maximum Open Credit'].mean()\n",
        "df_test.loc[df['Maximum Open Credit'] > (mean_test + 3* std_test), 'Maximum Open Credit'] = df_test['Maximum Open Credit'].mean()"
      ],
      "execution_count": 1302,
      "outputs": []
    },
    {
      "cell_type": "markdown",
      "metadata": {
        "id": "jwFhm_1Dt5Ic"
      },
      "source": [
        "### Number of Credit Problems"
      ]
    },
    {
      "cell_type": "code",
      "metadata": {
        "id": "yYgnj4e6frfb"
      },
      "source": [
        "#Number of Credit Problems - объединим все значения больше 4\n",
        "df.loc[df['Number of Credit Problems'] > 4, 'Number of Credit Problems'] = 4\n",
        "df_test.loc[df_test['Number of Credit Problems'] > 4, 'Number of Credit Problems'] = 4"
      ],
      "execution_count": 1303,
      "outputs": []
    },
    {
      "cell_type": "markdown",
      "metadata": {
        "id": "VMFAEvUgupbG"
      },
      "source": [
        "### Bankruptcies"
      ]
    },
    {
      "cell_type": "code",
      "metadata": {
        "id": "_6qFI-3tgr6P"
      },
      "source": [
        "df.loc[df['Bankruptcies'] > 2, 'Bankruptcies'] = 2\n",
        "df_test.loc[df_test['Bankruptcies'] > 2, 'Bankruptcies'] = 2"
      ],
      "execution_count": 1304,
      "outputs": []
    },
    {
      "cell_type": "markdown",
      "metadata": {
        "id": "l-w6iZFeu4S3"
      },
      "source": [
        "### Current Loan Amount"
      ]
    },
    {
      "cell_type": "code",
      "metadata": {
        "id": "p0ivmxORidru"
      },
      "source": [
        "mean = df['Current Loan Amount'].mean()\n",
        "std = df['Current Loan Amount'].std()\n",
        "\n",
        "df.loc[df['Current Loan Amount'] < (mean - 3* std), 'Current Loan Amount'] = df['Current Loan Amount'].mean()\n",
        "df.loc[df['Current Loan Amount'] > (mean + 3* std), 'Current Loan Amount'] = df['Current Loan Amount'].mean()\n",
        "\n",
        "mean_test = df_test['Current Loan Amount'].mean()\n",
        "std_test = df_test['Current Loan Amount'].std()\n",
        "\n",
        "df_test.loc[df_test['Current Loan Amount'] < (mean_test - 3* std_test), 'Current Loan Amount'] = df_test['Current Loan Amount'].mean()\n",
        "df_test.loc[df_test['Current Loan Amount'] > (mean_test + 3* std_test), 'Current Loan Amount'] = df_test['Current Loan Amount'].mean()"
      ],
      "execution_count": 1305,
      "outputs": []
    },
    {
      "cell_type": "markdown",
      "metadata": {
        "id": "vA53Ep26vCHk"
      },
      "source": [
        "### Current Credit Balance"
      ]
    },
    {
      "cell_type": "code",
      "metadata": {
        "id": "IpolVwKTdZRw"
      },
      "source": [
        "mean = df['Current Credit Balance'].mean()\n",
        "std = df['Current Credit Balance'].std()\n",
        "\n",
        "df.loc[df['Current Credit Balance'] < (mean - 3* std), 'Current Credit Balance'] = mean\n",
        "df.loc[df['Current Credit Balance'] > (mean + 3* std), 'Current Credit Balance'] = mean\n",
        "\n",
        "mean_test = df_test['Current Credit Balance'].mean()\n",
        "std_test = df_test['Current Credit Balance'].std()\n",
        "\n",
        "df_test.loc[df_test['Current Credit Balance'] < (mean_test - 3* std_test), 'Current Credit Balance'] = mean_test\n",
        "df_test.loc[df_test['Current Credit Balance'] > (mean_test + 3* std_test), 'Current Credit Balance'] = mean_test"
      ],
      "execution_count": 1306,
      "outputs": []
    },
    {
      "cell_type": "markdown",
      "metadata": {
        "id": "Kidg3NyevGEp"
      },
      "source": [
        "### Monthly Debt"
      ]
    },
    {
      "cell_type": "code",
      "metadata": {
        "id": "a_BDr5A9jXBR"
      },
      "source": [
        "mean = df['Monthly Debt'].mean()\n",
        "std = df['Monthly Debt'].std()\n",
        "\n",
        "df.loc[df['Monthly Debt'] < (mean - 3* std), 'Monthly Debt'] = mean\n",
        "df.loc[df['Monthly Debt'] > (mean + 3* std), 'Monthly Debt'] = mean\n",
        "\n",
        "mean_test = df_test['Monthly Debt'].mean()\n",
        "std_test = df_test['Monthly Debt'].std()\n",
        "\n",
        "df_test.loc[df_test['Monthly Debt'] < (mean_test - 3* std_test), 'Monthly Debt'] = mean_test\n",
        "df_test.loc[df_test['Monthly Debt'] > (mean_test + 3* std_test), 'Monthly Debt'] = mean_test"
      ],
      "execution_count": 1307,
      "outputs": []
    },
    {
      "cell_type": "markdown",
      "metadata": {
        "id": "Goyb4Qr_vM9f"
      },
      "source": [
        "### Credit Score"
      ]
    },
    {
      "cell_type": "code",
      "metadata": {
        "id": "e7Bg9wZ2kcw4",
        "outputId": "2411727c-05d6-40eb-8264-1ef31bf24a9e",
        "colab": {
          "base_uri": "https://localhost:8080/",
          "height": 54
        }
      },
      "source": [
        "#оставляем как есть, так как пробовали заменить нулями и дальще обучить модель \n",
        "#или разделить на 10 - но качество общей модели ухудшилось\n",
        "len(df[df['Credit Score']>1000])"
      ],
      "execution_count": 1308,
      "outputs": [
        {
          "output_type": "execute_result",
          "data": {
            "text/plain": [
              "400"
            ]
          },
          "metadata": {
            "tags": []
          },
          "execution_count": 1308
        }
      ]
    },
    {
      "cell_type": "code",
      "metadata": {
        "id": "bttAu8SF9H9v",
        "outputId": "e24912ef-f1fa-41c8-a6e6-63d7f39c37b5",
        "colab": {
          "base_uri": "https://localhost:8080/",
          "height": 54
        }
      },
      "source": [
        "len(df_test[df_test['Credit Score']>1000])"
      ],
      "execution_count": 1309,
      "outputs": [
        {
          "output_type": "execute_result",
          "data": {
            "text/plain": [
              "160"
            ]
          },
          "metadata": {
            "tags": []
          },
          "execution_count": 1309
        }
      ]
    },
    {
      "cell_type": "code",
      "metadata": {
        "id": "WXYITgQ7VT0t",
        "outputId": "b3f84f0f-1a6f-4339-cab2-fa6b1a364251",
        "colab": {
          "base_uri": "https://localhost:8080/",
          "height": 71
        }
      },
      "source": [
        "df[\"Credit Score\"].plot(kind=\"hist\", bins=100)"
      ],
      "execution_count": 1310,
      "outputs": [
        {
          "output_type": "execute_result",
          "data": {
            "text/plain": [
              "<matplotlib.axes._subplots.AxesSubplot at 0x7ff9e5203a20>"
            ]
          },
          "metadata": {
            "tags": []
          },
          "execution_count": 1310
        },
        {
          "output_type": "display_data",
          "data": {
            "image/png": "[encoded data removed]",
            "text/plain": [
              "<Figure size 432x288 with 1 Axes>"
            ]
          },
          "metadata": {
            "tags": [],
            "needs_background": "light"
          }
        }
      ]
    },
    {
      "cell_type": "code",
      "metadata": {
        "id": "qkc6SUgE9cBE",
        "outputId": "b8f2ff37-ec63-4908-fa6e-a2077f4d84cc",
        "colab": {
          "base_uri": "https://localhost:8080/",
          "height": 71
        }
      },
      "source": [
        "df_test[\"Credit Score\"].plot(kind=\"hist\", bins=100)"
      ],
      "execution_count": 1311,
      "outputs": [
        {
          "output_type": "execute_result",
          "data": {
            "text/plain": [
              "<matplotlib.axes._subplots.AxesSubplot at 0x7ff9e52de390>"
            ]
          },
          "metadata": {
            "tags": []
          },
          "execution_count": 1311
        },
        {
          "output_type": "display_data",
          "data": {
            "image/png": "[encoded data removed]",
            "text/plain": [
              "<Figure size 432x288 with 1 Axes>"
            ]
          },
          "metadata": {
            "tags": [],
            "needs_background": "light"
          }
        }
      ]
    },
    {
      "cell_type": "markdown",
      "metadata": {
        "id": "0HixiC8EYqur"
      },
      "source": [
        "## Создание новых признаков"
      ]
    },
    {
      "cell_type": "markdown",
      "metadata": {
        "id": "fiycUj3OGhN0"
      },
      "source": [
        "### Home Ownership - dummies"
      ]
    },
    {
      "cell_type": "code",
      "metadata": {
        "id": "JARB8LxDjij4"
      },
      "source": [
        "#лучше работает чем просто в одной колонке категории\n",
        "df= pd.get_dummies(df, prefix='Home Ownership_', columns=['Home Ownership'])\n",
        "df_test= pd.get_dummies(df_test, prefix='Home Ownership_', columns=['Home Ownership'])"
      ],
      "execution_count": 1312,
      "outputs": []
    },
    {
      "cell_type": "markdown",
      "metadata": {
        "id": "3nDmuyGXIGO6"
      },
      "source": [
        "### Years in current job - изменили названия категорий"
      ]
    },
    {
      "cell_type": "code",
      "metadata": {
        "id": "9HvJKZUmmu_-"
      },
      "source": [
        "#Years in current job\n",
        "#Заменим NaN на моду и остальное сделаем категории от 0 до 10 по возрастанию(dummies получается хуже)\n",
        "\n",
        "df.loc[df['Years in current job']=='< 1 year', 'Years in current job'] = 0\n",
        "df.loc[df['Years in current job']=='1 year', 'Years in current job'] = 1\n",
        "df.loc[df['Years in current job']=='2 years', 'Years in current job'] = 2\n",
        "df.loc[df['Years in current job']=='3 years', 'Years in current job'] = 3\n",
        "df.loc[df['Years in current job']=='4 years', 'Years in current job'] = 4\n",
        "df.loc[df['Years in current job']=='5 years', 'Years in current job'] = 5\n",
        "df.loc[df['Years in current job']=='6 years', 'Years in current job'] = 6\n",
        "df.loc[df['Years in current job']=='7 years', 'Years in current job'] = 7\n",
        "df.loc[df['Years in current job']=='8 years', 'Years in current job'] = 8\n",
        "df.loc[df['Years in current job']=='9 years', 'Years in current job'] = 9\n",
        "df.loc[df['Years in current job']=='10+ years', 'Years in current job'] = 10\n",
        "\n",
        "df_test.loc[df_test['Years in current job']=='< 1 year', 'Years in current job'] = 0\n",
        "df_test.loc[df_test['Years in current job']=='1 year', 'Years in current job'] = 1\n",
        "df_test.loc[df_test['Years in current job']=='2 years', 'Years in current job'] = 2\n",
        "df_test.loc[df_test['Years in current job']=='3 years', 'Years in current job'] = 3\n",
        "df_test.loc[df_test['Years in current job']=='4 years', 'Years in current job'] = 4\n",
        "df_test.loc[df_test['Years in current job']=='5 years', 'Years in current job'] = 5\n",
        "df_test.loc[df_test['Years in current job']=='6 years', 'Years in current job'] = 6\n",
        "df_test.loc[df_test['Years in current job']=='7 years', 'Years in current job'] = 7\n",
        "df_test.loc[df_test['Years in current job']=='8 years', 'Years in current job'] = 8\n",
        "df_test.loc[df_test['Years in current job']=='9 years', 'Years in current job'] = 9\n",
        "df_test.loc[df_test['Years in current job']=='10+ years', 'Years in current job'] = 10"
      ],
      "execution_count": 1313,
      "outputs": []
    },
    {
      "cell_type": "markdown",
      "metadata": {
        "id": "rqjGqm9WPKl2"
      },
      "source": [
        "###Purpose"
      ]
    },
    {
      "cell_type": "code",
      "metadata": {
        "id": "DClE-0GYb-mW"
      },
      "source": [
        "#Заменим названия на численные значения\n",
        "df.loc[df['Purpose']== 'debt consolidation', 'Purpose'] = 0\n",
        "df.loc[df['Purpose']== 'other', 'Purpose'] = 1\n",
        "df.loc[df['Purpose']== 'home improvements', 'Purpose'] = 2\n",
        "df.loc[df['Purpose']== 'business loan', 'Purpose'] = 3\n",
        "df.loc[df['Purpose']== 'buy a car', 'Purpose'] = 4\n",
        "df.loc[df['Purpose']== 'medical bills', 'Purpose'] = 5\n",
        "df.loc[df['Purpose']== 'major purchase', 'Purpose'] = 6\n",
        "df.loc[df['Purpose']== 'take a trip', 'Purpose'] = 7\n",
        "df.loc[df['Purpose']== 'buy house', 'Purpose'] = 8\n",
        "df.loc[df['Purpose']== 'small business', 'Purpose'] = 9\n",
        "df.loc[df['Purpose']== 'wedding', 'Purpose'] = 10\n",
        "df.loc[df['Purpose']== 'moving', 'Purpose'] = 11\n",
        "df.loc[df['Purpose']== 'educational expenses', 'Purpose'] = 12\n",
        "df.loc[df['Purpose']== 'vacation', 'Purpose'] = 13\n",
        "df.loc[df['Purpose']== 'renewable energy', 'Purpose'] = 14\n",
        "\n",
        "\n",
        "df_test.loc[df_test['Purpose']== 'debt consolidation', 'Purpose'] = 0\n",
        "df_test.loc[df_test['Purpose']== 'other', 'Purpose'] = 1\n",
        "df_test.loc[df_test['Purpose']== 'home improvements', 'Purpose'] = 2\n",
        "df_test.loc[df_test['Purpose']== 'business loan', 'Purpose'] = 3\n",
        "df_test.loc[df_test['Purpose']== 'buy a car', 'Purpose'] = 4\n",
        "df_test.loc[df_test['Purpose']== 'medical bills', 'Purpose'] = 5\n",
        "df_test.loc[df_test['Purpose']== 'major purchase', 'Purpose'] = 6\n",
        "df_test.loc[df_test['Purpose']== 'take a trip', 'Purpose'] = 7\n",
        "df_test.loc[df_test['Purpose']== 'buy house', 'Purpose'] = 8\n",
        "df_test.loc[df_test['Purpose']== 'small business', 'Purpose'] = 9\n",
        "df_test.loc[df_test['Purpose']== 'wedding', 'Purpose'] = 10\n",
        "df_test.loc[df_test['Purpose']== 'moving', 'Purpose'] = 11\n",
        "df_test.loc[df_test['Purpose']== 'educational expenses', 'Purpose'] = 12\n",
        "df_test.loc[df_test['Purpose']== 'vacation', 'Purpose'] = 13\n",
        "\n"
      ],
      "execution_count": 1314,
      "outputs": []
    },
    {
      "cell_type": "markdown",
      "metadata": {
        "id": "PIB_YSv_PcoZ"
      },
      "source": [
        "###Term"
      ]
    },
    {
      "cell_type": "code",
      "metadata": {
        "id": "30bEeqdmdrdr"
      },
      "source": [
        "df.loc[df['Term']== 'Short Term', 'Term'] = 1\n",
        "df.loc[df['Term']== 'Long Term', 'Term'] = 0\n",
        "\n",
        "df_test.loc[df_test['Term']== 'Short Term', 'Term'] = 1\n",
        "df_test.loc[df_test['Term']== 'Long Term', 'Term'] = 0"
      ],
      "execution_count": 1315,
      "outputs": []
    },
    {
      "cell_type": "markdown",
      "metadata": {
        "id": "3XM564_7G0_7"
      },
      "source": [
        "### Annual Income"
      ]
    },
    {
      "cell_type": "code",
      "metadata": {
        "id": "2GyQx8HNwjwv"
      },
      "source": [
        "# удалим целевой признак из датафрейма и признаки с большим количеством пропусков\n",
        "df_for_mon = df.copy()\n",
        "df_for_mon.drop(columns=['Credit Default'], inplace=True)\n",
        "df_for_mon.drop(columns=['Credit Score'], inplace=True)\n",
        "df_for_mon.drop(columns=['Months since last delinquent'], inplace=True)"
      ],
      "execution_count": 1316,
      "outputs": []
    },
    {
      "cell_type": "code",
      "metadata": {
        "id": "6OBoRjIawm4u"
      },
      "source": [
        "minmax = MinMaxScaler()\n",
        "df_for_mon[['Tax Liens', 'Number of Open Accounts', 'Years of Credit History','Maximum Open Credit', \n",
        "            'Number of Credit Problems', 'Bankruptcies', 'Current Loan Amount', 'Current Credit Balance', 'Monthly Debt'\n",
        "            ]]  = minmax.fit_transform(df_for_mon[[\n",
        "            'Tax Liens', 'Number of Open Accounts', 'Years of Credit History','Maximum Open Credit', \n",
        "            'Number of Credit Problems', 'Bankruptcies', 'Current Loan Amount', 'Current Credit Balance', 'Monthly Debt'\n",
        "       ]])"
      ],
      "execution_count": 1317,
      "outputs": []
    },
    {
      "cell_type": "code",
      "metadata": {
        "id": "y1mKhm16wowL"
      },
      "source": [
        "#разделим датафрейм на две части - трейн где Annual Income больше 0 и тест где скоринг равен -1\n",
        "df_for_mon1 = df_for_mon[df_for_mon['Annual Income'] > 0]#в этом датафрейме все записи с Annual Income\n",
        "df_for_mon0 = df_for_mon[df_for_mon['Annual Income'] == -1]# в этом датафрейме все записи без Annual Income\n",
        "\n",
        "df_for_mon1_for_model = df_for_mon1.copy(deep=True)\n",
        "df_for_mon0_for_model = df_for_mon0.copy(deep=True)"
      ],
      "execution_count": 1318,
      "outputs": []
    },
    {
      "cell_type": "code",
      "metadata": {
        "id": "zun1pB4zwuGu"
      },
      "source": [
        "df_for_mon0_for_model.drop(columns=['Annual Income'], inplace=True)\n",
        "y = df_for_mon1_for_model['Annual Income']\n",
        "df_for_mon1_for_model.drop(columns=['Annual Income'], inplace=True)\n",
        "X = df_for_mon1_for_model"
      ],
      "execution_count": 1319,
      "outputs": []
    },
    {
      "cell_type": "code",
      "metadata": {
        "id": "iqGkoH2vwvn_",
        "outputId": "bf8a3928-06bf-4197-811f-d7ab0f9ee344",
        "colab": {
          "base_uri": "https://localhost:8080/",
          "height": 71
        }
      },
      "source": [
        "X_train, X_val, y_train, y_val = train_test_split(X, y, test_size=0.3, random_state=22)\n",
        "skm = lm.LinearRegression()\n",
        "skm.fit(X_train, y_train)\n",
        "y_train_preds = skm.predict(X_train)\n",
        "y_test_preds = skm.predict(X_val)\n",
        "print(r2(y_train, y_train_preds))\n",
        "print(r2(y_val, y_test_preds))"
      ],
      "execution_count": 1320,
      "outputs": [
        {
          "output_type": "stream",
          "text": [
            "0.3614453876364412\n",
            "0.3730312390550927\n"
          ],
          "name": "stdout"
        }
      ]
    },
    {
      "cell_type": "code",
      "metadata": {
        "id": "xm_toeacw16-",
        "outputId": "e0dea074-e038-4c87-c623-695b521c832d",
        "colab": {
          "base_uri": "https://localhost:8080/",
          "height": 139
        }
      },
      "source": [
        "y_test_fordf = skm.predict(df_for_mon0_for_model)\n",
        "df_for_mon0['Annual Income'] = y_test_fordf\n",
        "# опять объединим два датафрейма и упорядочим по индексу\n",
        "df_all_full = pd.concat([df_for_mon1, df_for_mon0], ignore_index=False)\n",
        "df_all_full.sort_index(inplace=True)\n",
        "#внесем credit score в начальные датафреймы\n",
        "df['Annual Income'] = df_all_full['Annual Income']"
      ],
      "execution_count": 1321,
      "outputs": [
        {
          "output_type": "stream",
          "text": [
            "/usr/local/lib/python3.6/dist-packages/ipykernel_launcher.py:2: SettingWithCopyWarning: \n",
            "A value is trying to be set on a copy of a slice from a DataFrame.\n",
            "Try using .loc[row_indexer,col_indexer] = value instead\n",
            "\n",
            "See the caveats in the documentation: https://pandas.pydata.org/pandas-docs/stable/user_guide/indexing.html#returning-a-view-versus-a-copy\n",
            "  \n"
          ],
          "name": "stderr"
        }
      ]
    },
    {
      "cell_type": "code",
      "metadata": {
        "id": "tskdctG9w7fJ"
      },
      "source": [
        "# df_test\n",
        "# удалим признаки с большим количеством пропусков\n",
        "df_for_mon = df_test.copy()\n",
        "df_for_mon.drop(columns=['Credit Score'], inplace=True)\n",
        "df_for_mon.drop(columns=['Months since last delinquent'], inplace=True)"
      ],
      "execution_count": 1322,
      "outputs": []
    },
    {
      "cell_type": "code",
      "metadata": {
        "id": "PpFSLXxxEPPp"
      },
      "source": [
        "minmax = MinMaxScaler()\n",
        "df_for_mon[['Tax Liens', 'Number of Open Accounts', 'Years of Credit History','Maximum Open Credit', \n",
        "            'Number of Credit Problems', 'Bankruptcies', 'Current Loan Amount', 'Current Credit Balance', 'Monthly Debt'\n",
        "            ]]  = minmax.fit_transform(df_for_mon[[\n",
        "            'Tax Liens', 'Number of Open Accounts', 'Years of Credit History','Maximum Open Credit', \n",
        "            'Number of Credit Problems', 'Bankruptcies', 'Current Loan Amount', 'Current Credit Balance', 'Monthly Debt'\n",
        "       ]])"
      ],
      "execution_count": 1323,
      "outputs": []
    },
    {
      "cell_type": "code",
      "metadata": {
        "id": "7cmLPsT2ET0j"
      },
      "source": [
        "#разделим датафрейм на две части - трейн где Annual Income больше 0 и тест где скоринг равен -1\n",
        "df_for_mon1 = df_for_mon[df_for_mon['Annual Income'] > 0]#в этом датафрейме все записи с Annual Income\n",
        "df_for_mon0 = df_for_mon[df_for_mon['Annual Income'] == -1]# в этом датафрейме все записи без Annual Income\n",
        "\n",
        "df_for_mon1_for_model = df_for_mon1.copy(deep=True)\n",
        "df_for_mon0_for_model = df_for_mon0.copy(deep=True)"
      ],
      "execution_count": 1324,
      "outputs": []
    },
    {
      "cell_type": "code",
      "metadata": {
        "id": "fnfvmG7bEWmu"
      },
      "source": [
        "df_for_mon0_for_model.drop(columns=['Annual Income'], inplace=True)\n",
        "y = df_for_mon1_for_model['Annual Income']\n",
        "df_for_mon1_for_model.drop(columns=['Annual Income'], inplace=True)\n",
        "X = df_for_mon1_for_model"
      ],
      "execution_count": 1325,
      "outputs": []
    },
    {
      "cell_type": "code",
      "metadata": {
        "id": "4pN6LwhxEZ0w",
        "outputId": "59671700-9f23-48c1-ec28-3189886bed70",
        "colab": {
          "base_uri": "https://localhost:8080/",
          "height": 71
        }
      },
      "source": [
        "X_train, X_val, y_train, y_val = train_test_split(X, y, test_size=0.3, random_state=22)\n",
        "skm = lm.LinearRegression()\n",
        "skm.fit(X_train, y_train)\n",
        "y_train_preds = skm.predict(X_train)\n",
        "y_test_preds = skm.predict(X_val)\n",
        "print(r2(y_train, y_train_preds))\n",
        "print(r2(y_val, y_test_preds))"
      ],
      "execution_count": 1326,
      "outputs": [
        {
          "output_type": "stream",
          "text": [
            "0.3232435092614575\n",
            "0.3508147432699281\n"
          ],
          "name": "stdout"
        }
      ]
    },
    {
      "cell_type": "code",
      "metadata": {
        "id": "Xb5eo3HwEf4R",
        "outputId": "7b8bea39-66b5-4995-8ec8-04ca220c2120",
        "colab": {
          "base_uri": "https://localhost:8080/",
          "height": 139
        }
      },
      "source": [
        "y_test_fordf = skm.predict(df_for_mon0_for_model)\n",
        "df_for_mon0['Annual Income'] = y_test_fordf\n",
        "# опять объединим два датафрейма и упорядочим по индексу\n",
        "df_all_full = pd.concat([df_for_mon1, df_for_mon0], ignore_index=False)\n",
        "df_all_full.sort_index(inplace=True)\n",
        "#внесем credit score в начальные датафреймы\n",
        "df_test['Annual Income'] = df_all_full['Annual Income']"
      ],
      "execution_count": 1327,
      "outputs": [
        {
          "output_type": "stream",
          "text": [
            "/usr/local/lib/python3.6/dist-packages/ipykernel_launcher.py:2: SettingWithCopyWarning: \n",
            "A value is trying to be set on a copy of a slice from a DataFrame.\n",
            "Try using .loc[row_indexer,col_indexer] = value instead\n",
            "\n",
            "See the caveats in the documentation: https://pandas.pydata.org/pandas-docs/stable/user_guide/indexing.html#returning-a-view-versus-a-copy\n",
            "  \n"
          ],
          "name": "stderr"
        }
      ]
    },
    {
      "cell_type": "markdown",
      "metadata": {
        "id": "p2SqWi5XN6m6"
      },
      "source": [
        "### Months since last delinquent"
      ]
    },
    {
      "cell_type": "code",
      "metadata": {
        "id": "RgX1OAAikHRz"
      },
      "source": [
        "# удалим целевой признак из датафрейма и признак скоринга\n",
        "df_for_mon = df.copy()\n",
        "df_for_mon.drop(columns=['Credit Default'], inplace=True)\n",
        "df_for_mon.drop(columns=['Credit Score'], inplace=True)\n",
        "\n",
        "minmax = MinMaxScaler()\n",
        "df_for_mon[[\n",
        "            'Annual Income', 'Tax Liens', 'Number of Open Accounts',\n",
        "       'Years of Credit History', 'Maximum Open Credit',\n",
        "       'Number of Credit Problems', \n",
        "       'Bankruptcies', 'Current Loan Amount', 'Current Credit Balance',\n",
        "       'Monthly Debt'\n",
        "        ]] = minmax.fit_transform(df_for_mon[[\n",
        "        'Annual Income', 'Tax Liens', 'Number of Open Accounts',\n",
        "       'Years of Credit History', 'Maximum Open Credit',\n",
        "       'Number of Credit Problems', \n",
        "       'Bankruptcies', 'Current Loan Amount', 'Current Credit Balance',\n",
        "       'Monthly Debt' ]])\n",
        "        "
      ],
      "execution_count": 1328,
      "outputs": []
    },
    {
      "cell_type": "code",
      "metadata": {
        "id": "gwDhOXLVl5RR"
      },
      "source": [
        "#разделим датафрейм на две части - трейн где количество месяцев  больще -1 и тест где количество месяцев равен -1\n",
        "df_mon1 = df_for_mon[df_for_mon['Months since last delinquent'] > -1]#в этом датафрейме все записи со значениями\n",
        "df_mon0 = df_for_mon[df_for_mon['Months since last delinquent'] == -1]# в этом датафрейме все записи с пропусками\n",
        "df_mon1_for_model = df_mon1.copy(deep=True)\n",
        "df_mon0_for_model = df_mon0.copy(deep=True)"
      ],
      "execution_count": 1329,
      "outputs": []
    },
    {
      "cell_type": "code",
      "metadata": {
        "id": "qCsS9grxm4Ay"
      },
      "source": [
        "df_mon0_for_model.drop(columns=['Months since last delinquent'], inplace=True)\n",
        "y = df_mon1_for_model['Months since last delinquent']\n",
        "df_mon1_for_model.drop(columns=['Months since last delinquent'], inplace=True)\n",
        "X = df_mon1_for_model\n",
        "X_train, X_val, y_train, y_val = train_test_split(X, y, test_size=0.3, random_state=22)"
      ],
      "execution_count": 1330,
      "outputs": []
    },
    {
      "cell_type": "code",
      "metadata": {
        "id": "YvlPAVpDnXz1",
        "outputId": "fcfa7136-da92-4734-fbc4-61a44f29fe98",
        "colab": {
          "base_uri": "https://localhost:8080/",
          "height": 51
        }
      },
      "source": [
        "skm = lm.LinearRegression()\n",
        "skm.fit(X_train, y_train)\n",
        "y_train_preds = skm.predict(X_train)\n",
        "y_test_preds = skm.predict(X_val)\n",
        "print(r2(y_train, y_train_preds))\n",
        "print(r2(y_val, y_test_preds))"
      ],
      "execution_count": 1331,
      "outputs": [
        {
          "output_type": "stream",
          "text": [
            "0.04013680237411532\n",
            "0.03136207026158966\n"
          ],
          "name": "stdout"
        }
      ]
    },
    {
      "cell_type": "code",
      "metadata": {
        "id": "AB-sFtBxn_Wk",
        "outputId": "ba0861e8-7811-4de3-f374-32131408cf1b",
        "colab": {
          "base_uri": "https://localhost:8080/",
          "height": 139
        }
      },
      "source": [
        "y_test_fordf = skm.predict(df_mon0_for_model)\n",
        "df_mon0['Months since last delinquent'] = y_test_fordf\n",
        "# опять объединим два датафрейма и упорядочим по признаку ID\n",
        "df_all_full = pd.concat([df_mon1, df_mon0], ignore_index=False)\n",
        "df_all_full.sort_index(inplace=True)\n",
        "#внесем 'Months since last delinquent' в начальные датафреймы\n",
        "df['Months since last delinquent'] = df_all_full['Months since last delinquent']"
      ],
      "execution_count": 1332,
      "outputs": [
        {
          "output_type": "stream",
          "text": [
            "/usr/local/lib/python3.6/dist-packages/ipykernel_launcher.py:2: SettingWithCopyWarning: \n",
            "A value is trying to be set on a copy of a slice from a DataFrame.\n",
            "Try using .loc[row_indexer,col_indexer] = value instead\n",
            "\n",
            "See the caveats in the documentation: https://pandas.pydata.org/pandas-docs/stable/user_guide/indexing.html#returning-a-view-versus-a-copy\n",
            "  \n"
          ],
          "name": "stderr"
        }
      ]
    },
    {
      "cell_type": "code",
      "metadata": {
        "id": "eqwgbfQ4rKyG"
      },
      "source": [
        "#df_test\n",
        "# удалим целевой признак из датафрейма и признак скоринга\n",
        "df_for_mon = df_test.copy()\n",
        "df_for_mon.drop(columns=['Credit Score'], inplace=True)\n",
        "\n",
        "minmax = MinMaxScaler()\n",
        "df_for_mon[[\n",
        "            'Annual Income', 'Tax Liens', 'Number of Open Accounts',\n",
        "       'Years of Credit History', 'Maximum Open Credit',\n",
        "       'Number of Credit Problems', \n",
        "       'Bankruptcies', 'Current Loan Amount', 'Current Credit Balance',\n",
        "       'Monthly Debt'\n",
        "        ]] = minmax.fit_transform(df_for_mon[[\n",
        "        'Annual Income', 'Tax Liens', 'Number of Open Accounts',\n",
        "       'Years of Credit History', 'Maximum Open Credit',\n",
        "       'Number of Credit Problems', \n",
        "       'Bankruptcies', 'Current Loan Amount', 'Current Credit Balance',\n",
        "       'Monthly Debt' ]])"
      ],
      "execution_count": 1333,
      "outputs": []
    },
    {
      "cell_type": "code",
      "metadata": {
        "id": "s4Re24gvFgkQ"
      },
      "source": [
        "#разделим датафрейм на две части - трейн где количество месяцев  больще -1 и тест где количество месяцев равен -1\n",
        "df_mon1 = df_for_mon[df_for_mon['Months since last delinquent'] > -1]#в этом датафрейме все записи со значениями\n",
        "df_mon0 = df_for_mon[df_for_mon['Months since last delinquent'] == -1]# в этом датафрейме все записи с пропусками\n",
        "df_mon1_for_model = df_mon1.copy(deep=True)\n",
        "df_mon0_for_model = df_mon0.copy(deep=True)"
      ],
      "execution_count": 1334,
      "outputs": []
    },
    {
      "cell_type": "code",
      "metadata": {
        "id": "eocOWOkyFhcK"
      },
      "source": [
        "df_mon0_for_model.drop(columns=['Months since last delinquent'], inplace=True)\n",
        "y = df_mon1_for_model['Months since last delinquent']\n",
        "df_mon1_for_model.drop(columns=['Months since last delinquent'], inplace=True)\n",
        "X = df_mon1_for_model\n",
        "X_train, X_val, y_train, y_val = train_test_split(X, y, test_size=0.3, random_state=22)"
      ],
      "execution_count": 1335,
      "outputs": []
    },
    {
      "cell_type": "code",
      "metadata": {
        "id": "zPUFQ_SeFj7N",
        "outputId": "de26bce2-9bf8-430e-c991-32d1f2e8d975",
        "colab": {
          "base_uri": "https://localhost:8080/",
          "height": 51
        }
      },
      "source": [
        "skm = lm.LinearRegression()\n",
        "skm.fit(X_train, y_train)\n",
        "y_train_preds = skm.predict(X_train)\n",
        "y_test_preds = skm.predict(X_val)\n",
        "print(r2(y_train, y_train_preds))\n",
        "print(r2(y_val, y_test_preds))"
      ],
      "execution_count": 1336,
      "outputs": [
        {
          "output_type": "stream",
          "text": [
            "0.04297978195999963\n",
            "0.037351848424259426\n"
          ],
          "name": "stdout"
        }
      ]
    },
    {
      "cell_type": "code",
      "metadata": {
        "id": "pNgSBq3ZFmqG",
        "outputId": "0719d89c-fb6e-4adc-f6ff-47752809797b",
        "colab": {
          "base_uri": "https://localhost:8080/",
          "height": 139
        }
      },
      "source": [
        "y_test_fordf = skm.predict(df_mon0_for_model)\n",
        "df_mon0['Months since last delinquent'] = y_test_fordf\n",
        "# опять объединим два датафрейма и упорядочим по признаку ID\n",
        "df_all_full = pd.concat([df_mon1, df_mon0], ignore_index=False)\n",
        "df_all_full.sort_index(inplace=True)\n",
        "#внесем 'Months since last delinquent' в начальные датафреймы\n",
        "df_test['Months since last delinquent'] = df_all_full['Months since last delinquent']"
      ],
      "execution_count": 1337,
      "outputs": [
        {
          "output_type": "stream",
          "text": [
            "/usr/local/lib/python3.6/dist-packages/ipykernel_launcher.py:2: SettingWithCopyWarning: \n",
            "A value is trying to be set on a copy of a slice from a DataFrame.\n",
            "Try using .loc[row_indexer,col_indexer] = value instead\n",
            "\n",
            "See the caveats in the documentation: https://pandas.pydata.org/pandas-docs/stable/user_guide/indexing.html#returning-a-view-versus-a-copy\n",
            "  \n"
          ],
          "name": "stderr"
        }
      ]
    },
    {
      "cell_type": "markdown",
      "metadata": {
        "id": "2v2IAXClPr44"
      },
      "source": [
        "### Credit Score"
      ]
    },
    {
      "cell_type": "code",
      "metadata": {
        "id": "VslgNaH-kU-h"
      },
      "source": [
        "# удалим целевой признак из датафрейма\n",
        "df_for_score = df.copy()\n",
        "df_for_score.drop(columns=['Credit Default'], inplace=True)\n",
        "minmax = MinMaxScaler()"
      ],
      "execution_count": 1338,
      "outputs": []
    },
    {
      "cell_type": "code",
      "metadata": {
        "id": "0viTwR2kkbpQ"
      },
      "source": [
        "minmax = MinMaxScaler()\n",
        "df_for_score[['Annual Income', 'Tax Liens', 'Number of Open Accounts',\n",
        "       'Years of Credit History', 'Maximum Open Credit',\n",
        "       'Number of Credit Problems', 'Months since last delinquent',\n",
        "       'Bankruptcies', 'Current Loan Amount', 'Current Credit Balance',\n",
        "       'Monthly Debt'\n",
        "        ]] = minmax.fit_transform(df_for_score[[\n",
        "        'Annual Income', 'Tax Liens', 'Number of Open Accounts',\n",
        "       'Years of Credit History', 'Maximum Open Credit',\n",
        "       'Number of Credit Problems', 'Months since last delinquent',\n",
        "       'Bankruptcies', 'Current Loan Amount', 'Current Credit Balance',\n",
        "       'Monthly Debt' ]])"
      ],
      "execution_count": 1339,
      "outputs": []
    },
    {
      "cell_type": "code",
      "metadata": {
        "id": "MJ3YjJ3fkjIY"
      },
      "source": [
        "#разделим датафрейм на две части - трейн где скоринг больще 0 и тест где скоринг равен 0\n",
        "df_scor1 = df_for_score[df_for_score['Credit Score'] > 0]#в этом датафрейме все записи с кредитным скорингом\n",
        "df_scor0 = df_for_score[df_for_score['Credit Score'] == 0]# в этом датафрейме все записи без кредитного скоринга\n",
        "df_scor1_for_model = df_scor1.copy(deep=True)\n",
        "df_scor0_for_model = df_scor0.copy(deep=True)\n",
        "df_scor0_for_model.drop(columns=['Credit Score'], inplace=True)\n",
        "y = df_scor1_for_model['Credit Score']\n",
        "df_scor1_for_model.drop(columns=['Credit Score'], inplace=True)"
      ],
      "execution_count": 1340,
      "outputs": []
    },
    {
      "cell_type": "code",
      "metadata": {
        "id": "mutXCU8jucQH",
        "outputId": "00351d73-b97a-46ea-9320-6fa93ad41d28",
        "colab": {
          "base_uri": "https://localhost:8080/",
          "height": 51
        }
      },
      "source": [
        "X = df_scor1_for_model\n",
        "X_train, X_val, y_train, y_val = train_test_split(X, y, test_size=0.3, random_state=22)\n",
        "skm = lm.LinearRegression()\n",
        "skm.fit(X_train, y_train)\n",
        "y_train_preds = skm.predict(X_train)\n",
        "y_test_preds = skm.predict(X_val)\n",
        "print(r2(y_train, y_train_preds))\n",
        "print(r2(y_val, y_test_preds))"
      ],
      "execution_count": 1341,
      "outputs": [
        {
          "output_type": "stream",
          "text": [
            "0.020723429415599903\n",
            "0.007745459043200453\n"
          ],
          "name": "stdout"
        }
      ]
    },
    {
      "cell_type": "code",
      "metadata": {
        "id": "x4yB4nPHuhYz",
        "outputId": "bfc3b5b7-ecc5-4bea-e075-fa12e9de5a4c",
        "colab": {
          "base_uri": "https://localhost:8080/",
          "height": 139
        }
      },
      "source": [
        "y_test_fordf = skm.predict(df_scor0_for_model)\n",
        "df_scor0['Credit Score'] = y_test_fordf\n",
        "# опять объединим два датафрейма и упорядочим по признаку ID\n",
        "df_all_full = pd.concat([df_scor1, df_scor0], ignore_index=False)\n",
        "df_all_full.sort_index(inplace=True)\n",
        "#внесем credit score в начальные датафрейм\n",
        "df['Credit Score'] = df_all_full['Credit Score']"
      ],
      "execution_count": 1342,
      "outputs": [
        {
          "output_type": "stream",
          "text": [
            "/usr/local/lib/python3.6/dist-packages/ipykernel_launcher.py:2: SettingWithCopyWarning: \n",
            "A value is trying to be set on a copy of a slice from a DataFrame.\n",
            "Try using .loc[row_indexer,col_indexer] = value instead\n",
            "\n",
            "See the caveats in the documentation: https://pandas.pydata.org/pandas-docs/stable/user_guide/indexing.html#returning-a-view-versus-a-copy\n",
            "  \n"
          ],
          "name": "stderr"
        }
      ]
    },
    {
      "cell_type": "code",
      "metadata": {
        "id": "5tROruHxuswZ"
      },
      "source": [
        "#df_test\n",
        "# удалим целевой признак из датафрейма\n",
        "df_for_score = df_test.copy()\n",
        "minmax = MinMaxScaler()"
      ],
      "execution_count": 1343,
      "outputs": []
    },
    {
      "cell_type": "code",
      "metadata": {
        "id": "bPz1q1WiuwwO"
      },
      "source": [
        "minmax = MinMaxScaler()\n",
        "df_for_score[['Annual Income', 'Tax Liens', 'Number of Open Accounts',\n",
        "       'Years of Credit History', 'Maximum Open Credit',\n",
        "       'Number of Credit Problems', 'Months since last delinquent',\n",
        "       'Bankruptcies', 'Current Loan Amount', 'Current Credit Balance',\n",
        "       'Monthly Debt'\n",
        "        ]] = minmax.fit_transform(df_for_score[[\n",
        "        'Annual Income', 'Tax Liens', 'Number of Open Accounts',\n",
        "       'Years of Credit History', 'Maximum Open Credit',\n",
        "       'Number of Credit Problems', 'Months since last delinquent',\n",
        "       'Bankruptcies', 'Current Loan Amount', 'Current Credit Balance',\n",
        "       'Monthly Debt' ]])"
      ],
      "execution_count": 1344,
      "outputs": []
    },
    {
      "cell_type": "code",
      "metadata": {
        "id": "_2WfbHf-u84K"
      },
      "source": [
        "#разделим датафрейм на две части - трейн где скоринг больще 0 и тест где скоринг равен 0\n",
        "df_scor1 = df_for_score[df_for_score['Credit Score'] > 0]#в этом датафрейме все записи с кредитным скорингом\n",
        "df_scor0 = df_for_score[df_for_score['Credit Score'] == 0]# в этом датафрейме все записи без кредитного скоринга\n",
        "df_scor1_for_model = df_scor1.copy(deep=True)\n",
        "df_scor0_for_model = df_scor0.copy(deep=True)\n",
        "df_scor0_for_model.drop(columns=['Credit Score'], inplace=True)\n",
        "y = df_scor1_for_model['Credit Score']\n",
        "df_scor1_for_model.drop(columns=['Credit Score'], inplace=True)"
      ],
      "execution_count": 1345,
      "outputs": []
    },
    {
      "cell_type": "code",
      "metadata": {
        "id": "vakpeiXEvCJU"
      },
      "source": [
        "#разделим датафрейм на две части - трейн где скоринг больще 0 и тест где скоринг равен 0\n",
        "df_scor1 = df_for_score[df_for_score['Credit Score'] > 0]#в этом датафрейме все записи с кредитным скорингом\n",
        "df_scor0 = df_for_score[df_for_score['Credit Score'] == 0]# в этом датафрейме все записи без кредитного скоринга\n",
        "df_scor1_for_model = df_scor1.copy(deep=True)\n",
        "df_scor0_for_model = df_scor0.copy(deep=True)\n",
        "df_scor0_for_model.drop(columns=['Credit Score'], inplace=True)\n",
        "y = df_scor1_for_model['Credit Score']\n",
        "df_scor1_for_model.drop(columns=['Credit Score'], inplace=True)"
      ],
      "execution_count": 1346,
      "outputs": []
    },
    {
      "cell_type": "code",
      "metadata": {
        "id": "ddmI76IVvQCl",
        "outputId": "39eaae65-3302-4aab-e11a-5a6e24a6a2ad",
        "colab": {
          "base_uri": "https://localhost:8080/",
          "height": 51
        }
      },
      "source": [
        "X = df_scor1_for_model\n",
        "X_train, X_val, y_train, y_val = train_test_split(X, y, test_size=0.3, random_state=22)\n",
        "skm = lm.LinearRegression()\n",
        "skm.fit(X_train, y_train)\n",
        "y_train_preds = skm.predict(X_train)\n",
        "y_test_preds = skm.predict(X_val)\n",
        "print(r2(y_train, y_train_preds))\n",
        "print(r2(y_val, y_test_preds))"
      ],
      "execution_count": 1347,
      "outputs": [
        {
          "output_type": "stream",
          "text": [
            "0.03562162746677899\n",
            "-0.0037433624181333336\n"
          ],
          "name": "stdout"
        }
      ]
    },
    {
      "cell_type": "code",
      "metadata": {
        "id": "IljhLYAYvch9",
        "outputId": "ef99eca2-ef0d-4c3f-d25f-dae07f7d5c6e",
        "colab": {
          "base_uri": "https://localhost:8080/",
          "height": 139
        }
      },
      "source": [
        "y_test_fordf = skm.predict(df_scor0_for_model)\n",
        "df_scor0['Credit Score'] = y_test_fordf\n",
        "# опять объединим два датафрейма и упорядочим по признаку ID\n",
        "df_all_full = pd.concat([df_scor1, df_scor0], ignore_index=False)\n",
        "df_all_full.sort_index(inplace=True)\n",
        "#внесем credit score в начальные датафрейм\n",
        "df_test['Credit Score'] = df_all_full['Credit Score']"
      ],
      "execution_count": 1348,
      "outputs": [
        {
          "output_type": "stream",
          "text": [
            "/usr/local/lib/python3.6/dist-packages/ipykernel_launcher.py:2: SettingWithCopyWarning: \n",
            "A value is trying to be set on a copy of a slice from a DataFrame.\n",
            "Try using .loc[row_indexer,col_indexer] = value instead\n",
            "\n",
            "See the caveats in the documentation: https://pandas.pydata.org/pandas-docs/stable/user_guide/indexing.html#returning-a-view-versus-a-copy\n",
            "  \n"
          ],
          "name": "stderr"
        }
      ]
    },
    {
      "cell_type": "code",
      "metadata": {
        "id": "t4aGLaibqakJ"
      },
      "source": [
        ""
      ],
      "execution_count": 1348,
      "outputs": []
    },
    {
      "cell_type": "markdown",
      "metadata": {
        "id": "oGYyT6aoqw-b"
      },
      "source": [
        "### NEW"
      ]
    },
    {
      "cell_type": "code",
      "metadata": {
        "id": "FnNNRFyAgL4_"
      },
      "source": [
        "df.loc[df['Annual Income']==0, 'Annual Income'] = 1\n",
        "df.loc[df['Months since last delinquent']==0, 'Months since last delinquent'] = 0.5\n",
        "df.loc[df['Current Credit Balance']==0, 'Current Credit Balance'] = 1\n",
        "df.loc[df['Monthly Debt']==0, 'Monthly Debt'] = 1\n",
        "df.loc[df['Maximum Open Credit']==0, 'Maximum Open Credit'] = 1\n",
        "\n",
        "df_test.loc[df_test['Annual Income']==0, 'Annual Income'] = 1\n",
        "df_test.loc[df_test['Months since last delinquent']==0, 'Months since last delinquent'] = 0.5\n",
        "df_test.loc[df_test['Current Credit Balance']==0, 'Current Credit Balance'] = 1\n",
        "df_test.loc[df_test['Monthly Debt']==0, 'Monthly Debt'] = 1\n",
        "df_test.loc[df_test['Maximum Open Credit']==0, 'Maximum Open Credit'] = 1"
      ],
      "execution_count": 1349,
      "outputs": []
    },
    {
      "cell_type": "code",
      "metadata": {
        "id": "_SJR55BFjB54"
      },
      "source": [
        "df['1'] =df['Annual Income']/df['Number of Open Accounts']\n",
        "df['2'] =df['Annual Income']/df['Years of Credit History']\n",
        "df['3'] =df['Annual Income']/df['Maximum Open Credit']\n",
        "df['4'] =df['Annual Income']/df['Months since last delinquent']\n",
        "df['5'] =df['Annual Income']/df['Current Credit Balance']\n",
        "df['6'] =df['Annual Income']/df['Monthly Debt']\n",
        "df['7'] =df['Annual Income']/df['Credit Score']\n",
        "df['8'] =df['Number of Open Accounts']/df['Years of Credit History']\n",
        "df['9'] =df['Maximum Open Credit']/df['Number of Open Accounts']\n",
        "df['10'] =df['Months since last delinquent']/df['Number of Open Accounts']\n",
        "df['11'] =df['Current Credit Balance']/df['Number of Open Accounts']\n",
        "df['12'] =df['Monthly Debt']/df['Number of Open Accounts']\n",
        "df['13'] =df['Credit Score']/df['Number of Open Accounts']\n",
        "df['14'] =df['Maximum Open Credit']/df['Years of Credit History']\n",
        "df['15'] =df['Months since last delinquent']/df['Years of Credit History']\n",
        "df['16'] =df['Current Credit Balance']/df['Years of Credit History']\n",
        "df['17'] =df['Monthly Debt']/df['Years of Credit History']\n",
        "df['18'] =df['Credit Score']/df['Years of Credit History']\n",
        "df['19'] =df['Maximum Open Credit']/df['Months since last delinquent']\n",
        "df['20'] =df['Maximum Open Credit']/df['Current Credit Balance']\n",
        "df['21'] =df['Maximum Open Credit']/df['Monthly Debt']\n",
        "df['22'] =df['Maximum Open Credit']/df['Credit Score']\n",
        "df['23'] =df['Current Credit Balance']/df['Months since last delinquent']\n",
        "df['24'] =df['Monthly Debt']/df['Months since last delinquent']\n",
        "df['25'] =df['Credit Score']/df['Months since last delinquent']\n",
        "df['26'] =df['Current Credit Balance']/df['Monthly Debt']\n",
        "df['27'] =df['Current Credit Balance']/df['Credit Score']\n",
        "df['28'] =df['Monthly Debt']/df['Credit Score']\n",
        "df['30'] = df['Years of Credit History'] - df['Months since last delinquent']/12\n",
        "df['31'] = df['Years of Credit History'] - df['Number of Open Accounts']\n",
        "df['32'] = df['Annual Income'] - df['Monthly Debt']*12\n",
        "df['33'] = df['Maximum Open Credit'] - df['Annual Income']\n",
        "df['34'] = df['Current Credit Balance'] - df['Maximum Open Credit']\n",
        "df['35'] = df['Maximum Open Credit'] - df['Monthly Debt']\n",
        "df['36'] = df['Current Credit Balance'] - df['Monthly Debt']\n",
        "df['37'] = df['Current Credit Balance'] - df['Annual Income']"
      ],
      "execution_count": 1350,
      "outputs": []
    },
    {
      "cell_type": "code",
      "metadata": {
        "id": "C0xAWAmiuvY8"
      },
      "source": [
        "df_test['1'] =df_test['Annual Income']/df_test['Number of Open Accounts']\n",
        "df_test['2'] =df_test['Annual Income']/df_test['Years of Credit History']\n",
        "df_test['3'] =df_test['Annual Income']/df_test['Maximum Open Credit']\n",
        "df_test['4'] =df_test['Annual Income']/df_test['Months since last delinquent']\n",
        "df_test['5'] =df_test['Annual Income']/df_test['Current Credit Balance']\n",
        "df_test['6'] =df_test['Annual Income']/df_test['Monthly Debt']\n",
        "df_test['7'] =df_test['Annual Income']/df_test['Credit Score']\n",
        "df_test['8'] =df_test['Number of Open Accounts']/df_test['Years of Credit History']\n",
        "df_test['9'] =df_test['Maximum Open Credit']/df_test['Number of Open Accounts']\n",
        "df_test['10'] =df_test['Months since last delinquent']/df_test['Number of Open Accounts']\n",
        "df_test['11'] =df_test['Current Credit Balance']/df_test['Number of Open Accounts']\n",
        "df_test['12'] =df_test['Monthly Debt']/df_test['Number of Open Accounts']\n",
        "df_test['13'] =df_test['Credit Score']/df_test['Number of Open Accounts']\n",
        "df_test['14'] =df_test['Maximum Open Credit']/df_test['Years of Credit History']\n",
        "df_test['15'] =df_test['Months since last delinquent']/df_test['Years of Credit History']\n",
        "df_test['16'] =df_test['Current Credit Balance']/df_test['Years of Credit History']\n",
        "df_test['17'] =df_test['Monthly Debt']/df_test['Years of Credit History']\n",
        "df_test['18'] =df_test['Credit Score']/df_test['Years of Credit History']\n",
        "df_test['19'] =df_test['Maximum Open Credit']/df_test['Months since last delinquent']\n",
        "df_test['20'] =df_test['Maximum Open Credit']/df_test['Current Credit Balance']\n",
        "df_test['21'] =df_test['Maximum Open Credit']/df_test['Monthly Debt']\n",
        "df_test['22'] =df_test['Maximum Open Credit']/df_test['Credit Score']\n",
        "df_test['23'] =df_test['Current Credit Balance']/df_test['Months since last delinquent']\n",
        "df_test['24'] =df_test['Monthly Debt']/df_test['Months since last delinquent']\n",
        "df_test['25'] =df_test['Credit Score']/df_test['Months since last delinquent']\n",
        "df_test['26'] =df_test['Current Credit Balance']/df_test['Monthly Debt']\n",
        "df_test['27'] =df_test['Current Credit Balance']/df_test['Credit Score']\n",
        "df_test['28'] =df_test['Monthly Debt']/df_test['Credit Score']\n",
        "df_test['30'] = df_test['Years of Credit History'] - df_test['Months since last delinquent']/12\n",
        "df_test['31'] = df_test['Years of Credit History'] - df_test['Number of Open Accounts']\n",
        "df_test['32'] = df_test['Annual Income'] - df_test['Monthly Debt']*12\n",
        "df_test['33'] = df_test['Maximum Open Credit'] - df_test['Annual Income']\n",
        "df_test['34'] = df_test['Current Credit Balance'] - df_test['Maximum Open Credit']\n",
        "df_test['35'] = df_test['Maximum Open Credit'] - df_test['Monthly Debt']\n",
        "df_test['36'] = df_test['Current Credit Balance'] - df_test['Monthly Debt']\n",
        "df_test['37'] = df_test['Current Credit Balance'] - df_test['Annual Income']"
      ],
      "execution_count": 1351,
      "outputs": []
    },
    {
      "cell_type": "markdown",
      "metadata": {
        "id": "oLjApSxBi7yk"
      },
      "source": [
        "## Масштабирование признаков"
      ]
    },
    {
      "cell_type": "code",
      "metadata": {
        "id": "pQSULJFQzds3"
      },
      "source": [
        "a = list(df.select_dtypes(include='float').columns)\n",
        "df[a] = minmax.fit_transform(df[a])\n",
        "\n",
        "a = list(df_test.select_dtypes(include='float').columns)\n",
        "df_test[a] = minmax.fit_transform(df_test[a])"
      ],
      "execution_count": 1352,
      "outputs": []
    },
    {
      "cell_type": "markdown",
      "metadata": {
        "id": "qSyLV0pZijcX"
      },
      "source": [
        "## Приведение типов"
      ]
    },
    {
      "cell_type": "code",
      "metadata": {
        "id": "5piPl2hgycDv",
        "outputId": "ec143ab1-ff98-431b-af8f-61ce7b821471",
        "colab": {
          "base_uri": "https://localhost:8080/",
          "height": 986
        }
      },
      "source": [
        "df.dtypes"
      ],
      "execution_count": 1353,
      "outputs": [
        {
          "output_type": "execute_result",
          "data": {
            "text/plain": [
              "Annual Income                    float64\n",
              "Years in current job              object\n",
              "Tax Liens                        float64\n",
              "Number of Open Accounts          float64\n",
              "Years of Credit History          float64\n",
              "Maximum Open Credit              float64\n",
              "Number of Credit Problems        float64\n",
              "Months since last delinquent     float64\n",
              "Bankruptcies                     float64\n",
              "Purpose                           object\n",
              "Term                              object\n",
              "Current Loan Amount              float64\n",
              "Current Credit Balance           float64\n",
              "Monthly Debt                     float64\n",
              "Credit Score                     float64\n",
              "Credit Default                     int64\n",
              "Home Ownership__Have Mortgage      uint8\n",
              "Home Ownership__Home Mortgage      uint8\n",
              "Home Ownership__Own Home           uint8\n",
              "Home Ownership__Rent               uint8\n",
              "1                                float64\n",
              "2                                float64\n",
              "3                                float64\n",
              "4                                float64\n",
              "5                                float64\n",
              "6                                float64\n",
              "7                                float64\n",
              "8                                float64\n",
              "9                                float64\n",
              "10                               float64\n",
              "11                               float64\n",
              "12                               float64\n",
              "13                               float64\n",
              "14                               float64\n",
              "15                               float64\n",
              "16                               float64\n",
              "17                               float64\n",
              "18                               float64\n",
              "19                               float64\n",
              "20                               float64\n",
              "21                               float64\n",
              "22                               float64\n",
              "23                               float64\n",
              "24                               float64\n",
              "25                               float64\n",
              "26                               float64\n",
              "27                               float64\n",
              "28                               float64\n",
              "30                               float64\n",
              "31                               float64\n",
              "32                               float64\n",
              "33                               float64\n",
              "34                               float64\n",
              "35                               float64\n",
              "36                               float64\n",
              "37                               float64\n",
              "dtype: object"
            ]
          },
          "metadata": {
            "tags": []
          },
          "execution_count": 1353
        }
      ]
    },
    {
      "cell_type": "code",
      "metadata": {
        "id": "FruvTUK_ihYz"
      },
      "source": [
        "df['Years in current job']=df['Years in current job'].astype(int)\n",
        "df['Purpose']=df['Purpose'].astype(int)\n",
        "df['Term']=df['Term'].astype(int)\n",
        "#df.drop(columns=['Unnamed: 0'], inplace=True) если загрузили уже предобработанные данные\n",
        "\n",
        "df_test['Years in current job']=df_test['Years in current job'].astype(int)\n",
        "df_test['Purpose']=df_test['Purpose'].astype(int)\n",
        "df_test['Term']=df_test['Term'].astype(int)\n",
        "#df.drop(columns=['Unnamed: 0'], inplace=True)"
      ],
      "execution_count": 1354,
      "outputs": []
    },
    {
      "cell_type": "markdown",
      "metadata": {
        "id": "HpDBaKZDq1AW"
      },
      "source": [
        "##Удаление признаков"
      ]
    },
    {
      "cell_type": "code",
      "metadata": {
        "id": "zdB2nE_wSO2-"
      },
      "source": [
        "#df = df.drop(columns='1')"
      ],
      "execution_count": 1355,
      "outputs": []
    },
    {
      "cell_type": "markdown",
      "metadata": {
        "id": "C-SKegSKmzXd"
      },
      "source": [
        "# Вычисление с помощью методов машинного обучения"
      ]
    },
    {
      "cell_type": "markdown",
      "metadata": {
        "id": "EU9ksICl7vga"
      },
      "source": [
        "### Разделение выборки на тест и трейн"
      ]
    },
    {
      "cell_type": "code",
      "metadata": {
        "id": "X23SQb_DOynv"
      },
      "source": [
        "X = df"
      ],
      "execution_count": 1356,
      "outputs": []
    },
    {
      "cell_type": "code",
      "metadata": {
        "id": "YuztBaDsngQg"
      },
      "source": [
        "y = df['Credit Default']"
      ],
      "execution_count": 1357,
      "outputs": []
    },
    {
      "cell_type": "code",
      "metadata": {
        "id": "JBkc-hN5oR-b"
      },
      "source": [
        "X_train, X_val, y_train, y_val = train_test_split(X, y, test_size=0.3, shuffle=True, random_state=21)\n",
        "y_train = y_train.values\n",
        "y_val = y_val.values"
      ],
      "execution_count": 1358,
      "outputs": []
    },
    {
      "cell_type": "markdown",
      "metadata": {
        "id": "LA007YtlXu_x"
      },
      "source": [
        "### Балансировка "
      ]
    },
    {
      "cell_type": "code",
      "metadata": {
        "id": "IILk5yppYEnF"
      },
      "source": [
        "TARGET_NAME = 'Credit Default'"
      ],
      "execution_count": 1359,
      "outputs": []
    },
    {
      "cell_type": "code",
      "metadata": {
        "id": "-EA91i2mXx90",
        "outputId": "f9a4e69a-0953-4eac-b853-f019614d479d",
        "colab": {
          "base_uri": "https://localhost:8080/",
          "height": 190
        }
      },
      "source": [
        "df_for_balancing = X_train\n",
        "df_for_balancing[TARGET_NAME] = y_train\n",
        "\n",
        "df_balanced = balance_df_by_target(df_for_balancing, TARGET_NAME)\n",
        "    \n",
        "df_balanced[TARGET_NAME].value_counts()"
      ],
      "execution_count": 1360,
      "outputs": [
        {
          "output_type": "stream",
          "text": [
            "/usr/local/lib/python3.6/dist-packages/ipykernel_launcher.py:2: SettingWithCopyWarning: \n",
            "A value is trying to be set on a copy of a slice from a DataFrame.\n",
            "Try using .loc[row_indexer,col_indexer] = value instead\n",
            "\n",
            "See the caveats in the documentation: https://pandas.pydata.org/pandas-docs/stable/user_guide/indexing.html#returning-a-view-versus-a-copy\n",
            "  \n"
          ],
          "name": "stderr"
        },
        {
          "output_type": "execute_result",
          "data": {
            "text/plain": [
              "0    3771\n",
              "1    2958\n",
              "Name: Credit Default, dtype: int64"
            ]
          },
          "metadata": {
            "tags": []
          },
          "execution_count": 1360
        }
      ]
    },
    {
      "cell_type": "code",
      "metadata": {
        "id": "2647ubGSY-Pe"
      },
      "source": [
        "X_train = df_balanced.drop(columns=TARGET_NAME)\n",
        "y_train = df_balanced[TARGET_NAME]\n",
        "X_val = X_val.drop(columns=TARGET_NAME)"
      ],
      "execution_count": 1361,
      "outputs": []
    },
    {
      "cell_type": "markdown",
      "metadata": {
        "id": "Tt0bQrkJpY1x"
      },
      "source": [
        "### 6 XGBoost"
      ]
    },
    {
      "cell_type": "code",
      "metadata": {
        "id": "XJAw88STVAaq"
      },
      "source": [
        "model_xgb = xgb.XGBClassifier(random_state=21)\n"
      ],
      "execution_count": 1362,
      "outputs": []
    },
    {
      "cell_type": "code",
      "metadata": {
        "id": "Up6pmYT3gloX",
        "outputId": "618b07f9-2b35-4ab0-dee1-6d0f95215bf8",
        "colab": {
          "base_uri": "https://localhost:8080/",
          "height": 136
        }
      },
      "source": [
        "model_xgb.fit(X_train, y_train)"
      ],
      "execution_count": 1363,
      "outputs": [
        {
          "output_type": "execute_result",
          "data": {
            "text/plain": [
              "XGBClassifier(base_score=0.5, booster='gbtree', colsample_bylevel=1,\n",
              "              colsample_bynode=1, colsample_bytree=1, gamma=0,\n",
              "              learning_rate=0.1, max_delta_step=0, max_depth=3,\n",
              "              min_child_weight=1, missing=None, n_estimators=100, n_jobs=1,\n",
              "              nthread=None, objective='binary:logistic', random_state=21,\n",
              "              reg_alpha=0, reg_lambda=1, scale_pos_weight=1, seed=None,\n",
              "              silent=None, subsample=1, verbosity=1)"
            ]
          },
          "metadata": {
            "tags": []
          },
          "execution_count": 1363
        }
      ]
    },
    {
      "cell_type": "code",
      "metadata": {
        "id": "WkC1SfaQWOhX",
        "outputId": "016911b3-5f16-4199-8840-6436f4e9ef34",
        "colab": {
          "base_uri": "https://localhost:8080/",
          "height": 51
        }
      },
      "source": [
        "y_train_preds = model_xgb.predict(X_train)\n",
        "y_test_preds = model_xgb.predict(X_val)\n",
        "print_stat(y_train_preds, y_test_preds)"
      ],
      "execution_count": 1364,
      "outputs": [
        {
          "output_type": "stream",
          "text": [
            "#    train precision 0.792,  recall 0.615, F_1 мера 0.692\n",
            "#    test precision 0.551,  recall 0.522, F_1 мера 0.536\n"
          ],
          "name": "stdout"
        }
      ]
    },
    {
      "cell_type": "code",
      "metadata": {
        "id": "KWW21Ot8ITYW"
      },
      "source": [
        "#    train precision 0.792,  recall 0.615, F_1 мера 0.692\n",
        "#    test precision 0.551,  recall 0.522, F_1 мера 0.536"
      ],
      "execution_count": 802,
      "outputs": []
    },
    {
      "cell_type": "markdown",
      "metadata": {
        "id": "WxPvemVWCsQt"
      },
      "source": [
        "## Обучение лучшей модели"
      ]
    },
    {
      "cell_type": "markdown",
      "metadata": {
        "id": "TGOw5ACQ46uY"
      },
      "source": [
        "**Поиск лучших гиперпараметров на отложенной выборке**"
      ]
    },
    {
      "cell_type": "code",
      "metadata": {
        "id": "B4hvOf8d1d9N"
      },
      "source": [
        "dep = [1, 2, 3, 4, 5]\n",
        "est = [50, 60, 70,80, 90, 100, 120, 130, 150, 170, 200, 300, 400, 500]\n",
        "for i in dep:\n",
        "  for j in est:\n",
        "    model_xgb = xgb.XGBClassifier(max_depth=i, n_estimators=j , random_state=21)\n",
        "    model_xgb.fit(X_train, y_train)\n",
        "    y_train_preds = model_xgb.predict(X_train)\n",
        "    y_test_preds = model_xgb.predict(X_val)\n",
        "    print(f'params dep {i} n_est{j}')\n",
        "\n",
        "    print_stat1( y_train_preds, y_test_preds)\n",
        "#выведем только те результаты, где мера f_1 больше 0,5"
      ],
      "execution_count": null,
      "outputs": []
    },
    {
      "cell_type": "markdown",
      "metadata": {
        "id": "CM2G_IkDEnFJ"
      },
      "source": [
        "Лучшие результаты \n",
        "\n",
        "params max_depth 3 n_est 130\n",
        "\n",
        "   train precision 0.812,  recall 0.652, F_1 мера 0.724\n",
        "\n",
        "   test precision 0.556,  recall 0.532, F_1 мера 0.544\n"
      ]
    },
    {
      "cell_type": "markdown",
      "metadata": {
        "id": "AH7LMu_sJd3X"
      },
      "source": [
        "**Поиск лучших гиперпараметров c помощью кросс валидации**"
      ]
    },
    {
      "cell_type": "code",
      "metadata": {
        "id": "DvZ51qR69MmB"
      },
      "source": [
        "X = X.drop(columns= 'Credit Default')"
      ],
      "execution_count": 1366,
      "outputs": []
    },
    {
      "cell_type": "code",
      "metadata": {
        "id": "X31ig7unjH05"
      },
      "source": [
        "model_xgb = xgb.XGBClassifier(random_state=21)\n",
        "\n",
        "params = {'n_estimators':[50, 60, 70, 80, 100, 125 , 130, 150, 170, 200, 300, 400, 500],\n",
        "          'max_depth':[ 1, 2, 3, 4, 5]}\n",
        "cv=KFold(n_splits=5, random_state=21, shuffle=True)"
      ],
      "execution_count": 184,
      "outputs": []
    },
    {
      "cell_type": "code",
      "metadata": {
        "id": "YgdSNUaajso1",
        "outputId": "fb4e0056-fe55-4ab4-9e91-2387d0cc5cc7",
        "colab": {
          "base_uri": "https://localhost:8080/",
          "height": 51
        }
      },
      "source": [
        "%%time\n",
        "\n",
        "rs = RandomizedSearchCV(model_xgb, params, scoring='f1', cv=cv, n_jobs=-1)\n",
        "rs.fit(X, y)"
      ],
      "execution_count": 185,
      "outputs": [
        {
          "output_type": "stream",
          "text": [
            "CPU times: user 5.02 s, sys: 33 ms, total: 5.05 s\n",
            "Wall time: 1min 49s\n"
          ],
          "name": "stdout"
        }
      ]
    },
    {
      "cell_type": "code",
      "metadata": {
        "id": "1qhSQL7Cj-VQ",
        "outputId": "ab42cff4-d6e8-48f7-ad71-9b5d23c695b5",
        "colab": {
          "base_uri": "https://localhost:8080/",
          "height": 34
        }
      },
      "source": [
        "rs.best_params_"
      ],
      "execution_count": 187,
      "outputs": [
        {
          "output_type": "execute_result",
          "data": {
            "text/plain": [
              "{'max_depth': 3, 'n_estimators': 300}"
            ]
          },
          "metadata": {
            "tags": []
          },
          "execution_count": 187
        }
      ]
    },
    {
      "cell_type": "code",
      "metadata": {
        "id": "tBbkPkFskCk2",
        "outputId": "779d169b-7ed8-4f01-e23f-2c7d007b0ce7",
        "colab": {
          "base_uri": "https://localhost:8080/",
          "height": 34
        }
      },
      "source": [
        "rs.best_score_"
      ],
      "execution_count": 188,
      "outputs": [
        {
          "output_type": "execute_result",
          "data": {
            "text/plain": [
              "0.4506884728353214"
            ]
          },
          "metadata": {
            "tags": []
          },
          "execution_count": 188
        }
      ]
    },
    {
      "cell_type": "markdown",
      "metadata": {
        "id": "jNhiXs7xFC82"
      },
      "source": [
        "Лучшие результаты\n",
        "\n",
        "{'max_depth': 3, 'n_estimators': 300} \n",
        "\n",
        "rs.best_score_ 0.4506\n",
        "\n"
      ]
    },
    {
      "cell_type": "markdown",
      "metadata": {
        "id": "260uiAFHDWTp"
      },
      "source": [
        "**Снижение переобучения**"
      ]
    },
    {
      "cell_type": "code",
      "metadata": {
        "id": "9huPB_jFAzHL",
        "outputId": "c61ee49b-3944-4ba3-a7a8-530f5e67e34b",
        "colab": {
          "base_uri": "https://localhost:8080/",
          "height": 51
        }
      },
      "source": [
        "fin_model_xgb = xgb.XGBClassifier(random_state=21, max_depth=3, n_estimators=300, reg_alpha = 21)\n",
        "fin_model_xgb.fit(X_train, y_train)\n",
        "y_train_preds = fin_model_xgb.predict(X_train)\n",
        "y_test_preds = fin_model_xgb.predict(X_val)\n",
        "print_stat( y_train_preds, y_test_preds)\n",
        "\n",
        "#reg alpha = 21\n",
        "#    train precision 0.795,  recall 0.649, F_1 мера 0.715\n",
        "#    test precision 0.56,  recall 0.535, F_1 мера 0.547"
      ],
      "execution_count": 1365,
      "outputs": [
        {
          "output_type": "stream",
          "text": [
            "#    train precision 0.795,  recall 0.649, F_1 мера 0.715\n",
            "#    test precision 0.56,  recall 0.535, F_1 мера 0.547\n"
          ],
          "name": "stdout"
        }
      ]
    },
    {
      "cell_type": "code",
      "metadata": {
        "id": "pjujUfhKFpbj",
        "outputId": "475143c2-489b-4f34-8233-5900947ed42a",
        "colab": {
          "base_uri": "https://localhost:8080/",
          "height": 51
        }
      },
      "source": [
        "fin_model_xgb = xgb.XGBClassifier(random_state=21, max_depth=3, n_estimators=130 , reg_alpha = 14)\n",
        "fin_model_xgb.fit(X_train, y_train)\n",
        "y_train_preds = fin_model_xgb.predict(X_train)\n",
        "y_test_preds = fin_model_xgb.predict(X_val)\n",
        "print_stat(y_train_preds, y_test_preds)\n",
        "\n",
        "#reg alpha = 14\n",
        "#    train precision 0.796,  recall 0.644, F_1 мера 0.712\n",
        "#    test precision 0.565,  recall 0.532, F_1 мера 0.548\n"
      ],
      "execution_count": 1367,
      "outputs": [
        {
          "output_type": "stream",
          "text": [
            "#    train precision 0.796,  recall 0.644, F_1 мера 0.712\n",
            "#    test precision 0.565,  recall 0.532, F_1 мера 0.548\n"
          ],
          "name": "stdout"
        }
      ]
    },
    {
      "cell_type": "code",
      "metadata": {
        "id": "jnB84-lQGlIY"
      },
      "source": [
        "#поиск лучшего параметра для снижения переобучения\n",
        "for i in range(39, 80):\n",
        "  fin_model_xgb = xgb.XGBClassifier(random_state=21, max_depth=3, n_estimators=300, reg_lambda = i\n",
        "                                  )\n",
        "  fin_model_xgb.fit(X_train, y_train)\n",
        "  y_train_preds = fin_model_xgb.predict(X_train)\n",
        "  y_test_preds = fin_model_xgb.predict(X_val)\n",
        "  print(f'reg alpha = {i}')\n",
        "  print_stat(y_train_preds, y_test_preds)\n"
      ],
      "execution_count": null,
      "outputs": []
    },
    {
      "cell_type": "markdown",
      "metadata": {
        "id": "khKxvhFlQedr"
      },
      "source": [
        "**Будем использовать модель с такими параметрами**\n",
        "\n",
        "max_depth=3, n_estimators=130, reg_alpha = 14\n",
        "\n",
        "  train precision 0.796,  recall 0.644, F_1 мера 0.712\n",
        "\n",
        "  test precision 0.565,  recall 0.532, F_1 мера 0.548"
      ]
    },
    {
      "cell_type": "markdown",
      "metadata": {
        "id": "0sPXGQFtDrqR"
      },
      "source": [
        "Подбор оптимального размера выборки, кривая обучения"
      ]
    },
    {
      "cell_type": "code",
      "metadata": {
        "id": "Awu3DiKnDuEA"
      },
      "source": [
        "final_model = xgb.XGBClassifier(n_estimators=130, max_depth=3,\n",
        "                                reg_alpha = 14,\n",
        "                                      class_weights=[0.5, 3.5],\n",
        "                                      silent=True, random_state=21)"
      ],
      "execution_count": 1368,
      "outputs": []
    },
    {
      "cell_type": "code",
      "metadata": {
        "id": "vbCmms-QFTmS",
        "outputId": "d5f078e7-56d6-4e11-8841-11ad5a5237a2",
        "colab": {
          "base_uri": "https://localhost:8080/",
          "height": 136
        }
      },
      "source": [
        "final_model.fit(X_train, y_train)"
      ],
      "execution_count": 1369,
      "outputs": [
        {
          "output_type": "execute_result",
          "data": {
            "text/plain": [
              "XGBClassifier(base_score=0.5, booster='gbtree', class_weights=[0.5, 3.5],\n",
              "              colsample_bylevel=1, colsample_bynode=1, colsample_bytree=1,\n",
              "              gamma=0, learning_rate=0.1, max_delta_step=0, max_depth=3,\n",
              "              min_child_weight=1, missing=None, n_estimators=130, n_jobs=1,\n",
              "              nthread=None, objective='binary:logistic', random_state=21,\n",
              "              reg_alpha=14, reg_lambda=1, scale_pos_weight=1, seed=None,\n",
              "              silent=True, subsample=1, verbosity=1)"
            ]
          },
          "metadata": {
            "tags": []
          },
          "execution_count": 1369
        }
      ]
    },
    {
      "cell_type": "code",
      "metadata": {
        "id": "a0DzMQVSD2j4",
        "outputId": "ef19cffb-554e-4685-e2e3-9a4b6ded1e10",
        "colab": {
          "base_uri": "https://localhost:8080/",
          "height": 513
        }
      },
      "source": [
        "show_learning_curve_plot(final_model, X, y)"
      ],
      "execution_count": 808,
      "outputs": [
        {
          "output_type": "display_data",
          "data": {
            "image/png": "[encoded data removed]",
            "text/plain": [
              "<Figure size 1080x576 with 1 Axes>"
            ]
          },
          "metadata": {
            "tags": [],
            "needs_background": "light"
          }
        }
      ]
    },
    {
      "cell_type": "markdown",
      "metadata": {
        "id": "k6jjskvFZcxA"
      },
      "source": [
        "Вывод - необходимо большее количество данных"
      ]
    },
    {
      "cell_type": "code",
      "metadata": {
        "id": "LIU8ZJfJFJLI"
      },
      "source": [
        "y_train_pred = final_model.predict(X_train)\n",
        "y_test_pred = final_model.predict(X_val)\n",
        "y_test_pred_probs = final_model.predict_proba(X_val)"
      ],
      "execution_count": 1370,
      "outputs": []
    },
    {
      "cell_type": "code",
      "metadata": {
        "id": "4laYx7FqE1Rg",
        "outputId": "bd54cdd0-8582-44ea-ff10-ace0eb382f4d",
        "colab": {
          "base_uri": "https://localhost:8080/",
          "height": 672
        }
      },
      "source": [
        "show_proba_calibration_plots(y_test_pred_probs[:, 1], y_val)"
      ],
      "execution_count": 1371,
      "outputs": [
        {
          "output_type": "display_data",
          "data": {
            "image/png": "[encoded data removed]",
            "text/plain": [
              "<Figure size 1080x360 with 2 Axes>"
            ]
          },
          "metadata": {
            "tags": [],
            "needs_background": "light"
          }
        }
      ]
    },
    {
      "cell_type": "markdown",
      "metadata": {
        "id": "QO9Gj04FZ1zu"
      },
      "source": [
        "Вывод - на пересечении линий на первом графике находится найденный лучший результат, значение вероятности отнесения к классу равно 0,5- так и есть в нашей модели"
      ]
    },
    {
      "cell_type": "code",
      "metadata": {
        "id": "qd4yC6g1Ge_W",
        "outputId": "3fbf32dc-e230-4a63-dd67-6ca4069cff2f",
        "colab": {
          "base_uri": "https://localhost:8080/",
          "height": 930
        }
      },
      "source": [
        "important_features_top = show_feature_importances(X_train.columns, final_model.feature_importances_, get_top=15)"
      ],
      "execution_count": 1372,
      "outputs": [
        {
          "output_type": "stream",
          "text": [
            "/usr/local/lib/python3.6/dist-packages/seaborn/_decorators.py:43: FutureWarning: Pass the following variables as keyword args: x, y. From version 0.12, the only valid positional argument will be `data`, and passing other arguments without an explicit keyword will result in an error or misinterpretation.\n",
            "  FutureWarning\n"
          ],
          "name": "stderr"
        },
        {
          "output_type": "display_data",
          "data": {
            "image/png": "[encoded data removed]",
            "text/plain": [
              "<Figure size 1440x1405.8 with 1 Axes>"
            ]
          },
          "metadata": {
            "tags": [],
            "needs_background": "light"
          }
        }
      ]
    },
    {
      "cell_type": "markdown",
      "metadata": {
        "id": "nki-USvlZ05v"
      },
      "source": [
        "Как видно из графика - 4 последних признака не влияют на модель, поэтому их можно не использовать"
      ]
    },
    {
      "cell_type": "code",
      "metadata": {
        "id": "VYofnHSfNHb6",
        "outputId": "52d93b65-7592-47cf-c9e4-49be27f2abae",
        "colab": {
          "base_uri": "https://localhost:8080/",
          "height": 272
        }
      },
      "source": [
        "#топ важных признаков\n",
        "important_features_top"
      ],
      "execution_count": 202,
      "outputs": [
        {
          "output_type": "execute_result",
          "data": {
            "text/plain": [
              "['Credit Score',\n",
              " 'Term',\n",
              " '22',\n",
              " 'Current Loan Amount',\n",
              " '13',\n",
              " '6',\n",
              " '32',\n",
              " '7',\n",
              " '9',\n",
              " '21',\n",
              " '30',\n",
              " '5',\n",
              " '25',\n",
              " '19',\n",
              " 'Number of Open Accounts']"
            ]
          },
          "metadata": {
            "tags": []
          },
          "execution_count": 202
        }
      ]
    },
    {
      "cell_type": "code",
      "metadata": {
        "id": "10Ax0CSEPk0B",
        "outputId": "818288fc-aba4-4d52-c197-e7a4d57bd275",
        "colab": {
          "base_uri": "https://localhost:8080/",
          "height": 51
        }
      },
      "source": [
        "# оценим работы модели на самых важных признаках - качество ухудшилось на 2 процента - \n",
        "#в данном случае это критично, поэтому отсавляем все признаки кроме 4\n",
        "model = xgb.XGBClassifier(max_depth=3, n_estimators=130 , reg_alpha= 14,  random_state=21)\n",
        "model.fit(X_train[important_features_top], y_train)\n",
        "\n",
        "y_train_preds = model.predict(X_train[important_features_top])\n",
        "y_test_preds = model.predict(X_val[important_features_top])\n",
        "y_test_pred_probs = model.predict_proba(X_val[important_features_top])\n",
        "\n",
        "print_stat(y_train_preds, y_test_preds)"
      ],
      "execution_count": 1373,
      "outputs": [
        {
          "output_type": "stream",
          "text": [
            "#    train precision 0.76,  recall 0.609, F_1 мера 0.676\n",
            "#    test precision 0.534,  recall 0.516, F_1 мера 0.525\n"
          ],
          "name": "stdout"
        }
      ]
    },
    {
      "cell_type": "code",
      "metadata": {
        "id": "PLKviOqbNXgE",
        "outputId": "3fe2a59a-6ae9-44a1-b7d5-73369e09353e",
        "colab": {
          "base_uri": "https://localhost:8080/",
          "height": 221
        }
      },
      "source": [
        "X_train.columns"
      ],
      "execution_count": 818,
      "outputs": [
        {
          "output_type": "execute_result",
          "data": {
            "text/plain": [
              "Index(['Annual Income', 'Years in current job', 'Tax Liens',\n",
              "       'Number of Open Accounts', 'Years of Credit History',\n",
              "       'Maximum Open Credit', 'Number of Credit Problems',\n",
              "       'Months since last delinquent', 'Bankruptcies', 'Purpose', 'Term',\n",
              "       'Current Loan Amount', 'Current Credit Balance', 'Monthly Debt',\n",
              "       'Credit Score', 'Home Ownership__Have Mortgage',\n",
              "       'Home Ownership__Home Mortgage', 'Home Ownership__Own Home',\n",
              "       'Home Ownership__Rent', '1', '2', '3', '4', '5', '6', '7', '8', '9',\n",
              "       '10', '11', '12', '13', '14', '15', '16', '17', '18', '19', '20', '21',\n",
              "       '22', '23', '24', '25', '26', '27', '28', '30', '31', '32', '33', '34',\n",
              "       '35', '36', '37'],\n",
              "      dtype='object')"
            ]
          },
          "metadata": {
            "tags": []
          },
          "execution_count": 818
        }
      ]
    },
    {
      "cell_type": "code",
      "metadata": {
        "id": "-CaiEHyeNSN-"
      },
      "source": [
        "main_call = ['Annual Income', 'Years in current job',\n",
        "       'Number of Open Accounts', 'Years of Credit History',\n",
        "       'Maximum Open Credit', 'Number of Credit Problems',\n",
        "       'Months since last delinquent', 'Purpose', 'Term',\n",
        "       'Current Loan Amount', 'Current Credit Balance', 'Monthly Debt',\n",
        "       'Credit Score', 'Home Ownership__Own Home',\n",
        "       'Home Ownership__Rent', '1', '2', '3', '4', '5', '6', '7', '8', '9',\n",
        "       '10', '11', '12', '13', '14', '15', '16', '17', '18', '19', '20', '21',\n",
        "       '22', '23', '24', '25', '26', '27', '28', '30', '31', '32', '33', '34',\n",
        "       '35', '36', '37']"
      ],
      "execution_count": 1374,
      "outputs": []
    },
    {
      "cell_type": "code",
      "metadata": {
        "id": "XrO4Z0dPOYh6"
      },
      "source": [
        "#удалим в конечной модели 'Tax Liens' 'Bankruptcies' 'Home Ownership__Home Mortgage' 'Home Ownership__Have Mortgage' без потери качества"
      ],
      "execution_count": null,
      "outputs": []
    },
    {
      "cell_type": "markdown",
      "metadata": {
        "id": "Fpx99IwmMgdX"
      },
      "source": [
        "### Final model"
      ]
    },
    {
      "cell_type": "code",
      "metadata": {
        "id": "O56HEHvFNP5W",
        "outputId": "2aecb691-224c-4a14-8d07-11fa7436452f",
        "colab": {
          "base_uri": "https://localhost:8080/",
          "height": 527
        }
      },
      "source": [
        "final_model = xgb.XGBClassifier(max_depth=3, n_estimators=130 , reg_alpha= 14,  random_state=21)\n",
        "final_model.fit(X_train[main_call], y_train)\n",
        "\n",
        "y_train_preds = final_model.predict(X_train[main_call])\n",
        "y_test_preds = final_model.predict(X_val[main_call])\n",
        "y_test_pred_probs = final_model.predict_proba(X_val[main_call])\n",
        "\n",
        "print_stat(y_train_preds, y_test_preds)\n",
        "get_classification_report(y_train, y_train_preds, y_val, y_test_preds)"
      ],
      "execution_count": 1375,
      "outputs": [
        {
          "output_type": "stream",
          "text": [
            "#    train precision 0.796,  recall 0.644, F_1 мера 0.712\n",
            "#    test precision 0.565,  recall 0.532, F_1 мера 0.548\n",
            "TRAIN\n",
            "\n",
            "              precision    recall  f1-score   support\n",
            "\n",
            "           0       0.76      0.87      0.81      3771\n",
            "           1       0.80      0.64      0.71      2958\n",
            "\n",
            "    accuracy                           0.77      6729\n",
            "   macro avg       0.78      0.76      0.76      6729\n",
            "weighted avg       0.77      0.77      0.77      6729\n",
            "\n",
            "TEST\n",
            "\n",
            "              precision    recall  f1-score   support\n",
            "\n",
            "           0       0.82      0.84      0.83      1616\n",
            "           1       0.57      0.53      0.55       634\n",
            "\n",
            "    accuracy                           0.75      2250\n",
            "   macro avg       0.69      0.69      0.69      2250\n",
            "weighted avg       0.75      0.75      0.75      2250\n",
            "\n",
            "CONFUSION MATRIX\n",
            "\n",
            "col_0     0    1\n",
            "row_0           \n",
            "0      1357  259\n",
            "1       297  337\n"
          ],
          "name": "stdout"
        }
      ]
    },
    {
      "cell_type": "markdown",
      "metadata": {
        "id": "WeW11sBZjsYq"
      },
      "source": [
        "### Важность признаков roc_auc"
      ]
    },
    {
      "cell_type": "code",
      "metadata": {
        "id": "0PMn82v4As5G"
      },
      "source": [
        "#('Bankruptcies', 0.5), ('Home Ownership__Have Mortgage', 0.5)"
      ],
      "execution_count": null,
      "outputs": []
    },
    {
      "cell_type": "code",
      "metadata": {
        "id": "wLwfALnWwiki"
      },
      "source": [
        "#df_new = pd.read_csv(TRAIN_DATASET_PATH)\n",
        "#y = df_new['Credit Default']\n",
        "#col = list(df.columns)"
      ],
      "execution_count": 172,
      "outputs": []
    },
    {
      "cell_type": "code",
      "metadata": {
        "id": "Rb1luDSZKmuO",
        "outputId": "ea8dbd86-9b9d-4763-93c4-cdf3de3cd66e",
        "colab": {
          "base_uri": "https://localhost:8080/",
          "height": 54
        }
      },
      "source": [
        "#main_pr = {}\n",
        "#for elem in col:\n",
        "#  #print(elem)\n",
        "#  sc = roc_auc_score( y_true=df_new['Credit Default'], y_score= df[elem])\n",
        " # diff = round(sc, 3)\n",
        " # main_pr[diff] = elem\n",
        "\n",
        "#main_pr_sorted = OrderedDict(sorted(main_pr.items(), key=lambda x: x[0]))\n",
        "\n",
        "#print(main_pr_sorted)"
      ],
      "execution_count": 179,
      "outputs": [
        {
          "output_type": "stream",
          "text": [
            "OrderedDict([(0.342, '7'), (0.357, '22'), (0.4, '27'), (0.404, '28'), (0.412, 'Term'), (0.435, '6'), (0.437, '32'), (0.438, '9'), (0.442, '20'), (0.443, '21'), (0.445, '1'), (0.448, 'Annual Income'), (0.454, '35'), (0.455, 'Maximum Open Credit'), (0.462, '14'), (0.464, '4'), (0.465, '19'), (0.469, '31'), (0.471, '2'), (0.478, '30'), (0.48, 'Years of Credit History'), (0.488, '26'), (0.49, '10'), (0.493, '11'), (0.5, 'Home Ownership__Have Mortgage'), (0.502, '36'), (0.503, 'Home Ownership__Own Home'), (0.505, '23'), (0.507, 'Purpose'), (0.51, '33'), (0.511, '24'), (0.514, 'Monthly Debt'), (0.519, '15'), (0.521, 'Months since last delinquent'), (0.524, '17'), (0.531, '8'), (0.533, 'Home Ownership__Rent'), (0.557, '37'), (0.562, '34'), (0.585, 'Credit Score'), (0.604, '25'), (0.609, '13'), (0.632, '18'), (1.0, 'Credit Default')])\n"
          ],
          "name": "stdout"
        }
      ]
    },
    {
      "cell_type": "code",
      "metadata": {
        "id": "4xICaJsB3J0n"
      },
      "source": [
        "#опеределение веса признака\n",
        "#col = list(X_train.columns)\n",
        "#for i in range(len(model_xgb.feature_importances_)):\n",
        "#  print(f'df = df.drop {col[i]} imp {round(model_xgb.feature_importances_[i], 4)}')"
      ],
      "execution_count": null,
      "outputs": []
    },
    {
      "cell_type": "markdown",
      "metadata": {
        "id": "PPjbpOZio37O"
      },
      "source": [
        "# Сохранение финальной модели"
      ]
    },
    {
      "cell_type": "code",
      "metadata": {
        "id": "FdyukuuBpFZ0"
      },
      "source": [
        "with open(MODEL_FILE_PATH, 'wb') as file:\n",
        "    pickle.dump(final_model, file)"
      ],
      "execution_count": 1377,
      "outputs": []
    },
    {
      "cell_type": "markdown",
      "metadata": {
        "id": "iBEle_EeJKiN"
      },
      "source": [
        "# Получим значения Credit Default на тестовом датасете и сохраним результаты"
      ]
    },
    {
      "cell_type": "code",
      "metadata": {
        "id": "qptRFxpPJfTn"
      },
      "source": [
        "y_test_preds_final = final_model.predict(df_test[main_call])"
      ],
      "execution_count": 1378,
      "outputs": []
    },
    {
      "cell_type": "code",
      "metadata": {
        "id": "4LMWDEp9J8YQ"
      },
      "source": [
        "df_test_final = pd.read_csv(TEST_DATASET_PATH)"
      ],
      "execution_count": 1379,
      "outputs": []
    },
    {
      "cell_type": "code",
      "metadata": {
        "id": "sDqDl-BKKKvM"
      },
      "source": [
        "df_test_final['Credit Default'] = y_test_preds_final"
      ],
      "execution_count": 1380,
      "outputs": []
    },
    {
      "cell_type": "code",
      "metadata": {
        "id": "IxqdDOVeKUh_"
      },
      "source": [
        "df_test_final.head()"
      ],
      "execution_count": null,
      "outputs": []
    },
    {
      "cell_type": "code",
      "metadata": {
        "id": "Qz-B0h7GJv1l"
      },
      "source": [
        "df_test_final.to_csv(FINAL_DATASET_PATH_FULL, index=False, encoding='utf-8')"
      ],
      "execution_count": 1389,
      "outputs": []
    },
    {
      "cell_type": "code",
      "metadata": {
        "id": "d8DaeY2YMKy5"
      },
      "source": [
        "df_test_final_pred = df_test_final.drop(columns= ['Home Ownership', 'Annual Income', 'Years in current job', 'Tax Liens',\n",
        "       'Number of Open Accounts', 'Years of Credit History',\n",
        "       'Maximum Open Credit', 'Number of Credit Problems',\n",
        "       'Months since last delinquent', 'Bankruptcies', 'Purpose', 'Term',\n",
        "       'Current Loan Amount', 'Current Credit Balance', 'Monthly Debt',\n",
        "       'Credit Score'])"
      ],
      "execution_count": 1391,
      "outputs": []
    },
    {
      "cell_type": "code",
      "metadata": {
        "id": "BK_89HpGMkyE"
      },
      "source": [
        "df_test_final_pred.to_csv(FINAL_DATASET_PATH_ONLY_PRED, index=False, encoding='utf-8')"
      ],
      "execution_count": 1394,
      "outputs": []
    },
    {
      "cell_type": "code",
      "metadata": {
        "id": "tc4oLatTJLeL",
        "outputId": "b62b4df2-a244-4161-d0db-fde80895419c",
        "colab": {
          "base_uri": "https://localhost:8080/",
          "height": 34
        }
      },
      "source": [
        "from google.colab import drive\n",
        "drive.mount('/content/drive')"
      ],
      "execution_count": 1,
      "outputs": [
        {
          "output_type": "stream",
          "text": [
            "Mounted at /content/drive\n"
          ],
          "name": "stdout"
        }
      ]
    }
  ]
}